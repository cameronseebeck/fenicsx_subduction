{
 "cells": [
  {
   "cell_type": "code",
   "execution_count": 1,
   "id": "9866069b-a1bd-4f51-961d-9f7e633994e0",
   "metadata": {},
   "outputs": [],
   "source": [
    "import random\n",
    "\n",
    "from mpi4py import MPI\n",
    "\n",
    "import numpy as np\n",
    "import pytest\n",
    "\n",
    "import basix\n",
    "import ufl\n",
    "from basix.ufl import blocked_element, custom_element, element, enriched_element, mixed_element\n",
    "from dolfinx import default_real_type, default_scalar_type\n",
    "from dolfinx.fem import (\n",
    "    Expression,\n",
    "    Function,\n",
    "    assemble_scalar,\n",
    "    create_nonmatching_meshes_interpolation_data,\n",
    "    form,\n",
    "    functionspace,\n",
    ")\n",
    "from dolfinx.geometry import bb_tree, compute_collisions_points\n",
    "from dolfinx.mesh import (\n",
    "    CellType,\n",
    "    create_mesh,\n",
    "    create_rectangle,\n",
    "    create_submesh,\n",
    "    create_unit_cube,\n",
    "    create_unit_square,\n",
    "    locate_entities,\n",
    "    locate_entities_boundary,\n",
    "    meshtags,\n",
    ")\n"
   ]
  },
  {
   "cell_type": "code",
   "execution_count": 2,
   "id": "5d62a2dc-fefa-40e0-9ae6-0cbd7a261bbd",
   "metadata": {},
   "outputs": [],
   "source": [
    "mesh = create_unit_square(MPI.COMM_WORLD, 6, 7)\n",
    "\n",
    "def left_locator(x):\n",
    "    return x[0] <= 0.5 + 1e-14\n",
    "\n",
    "def ref_func(x):\n",
    "    return x[0] + x[1] ** 2\n",
    "    \n",
    "tdim = mesh.topology.dim\n",
    "cells = locate_entities(mesh, tdim, left_locator)\n",
    "submesh, sub_to_parent, _, _ = create_submesh(mesh, tdim, cells)\n",
    "\n",
    "V = functionspace(mesh, (\"Lagrange\", 2))\n",
    "u = Function(V)\n",
    "u.interpolate(ref_func)\n",
    "    \n",
    "V_sub = functionspace(submesh, (\"DG\", 3))\n",
    "u_sub = Function(V_sub)\n",
    "    \n",
    "# Map from parent to sub mesh\n",
    "u_sub.interpolate(u, cell_map=sub_to_parent)\n",
    "    \n",
    "u_sub_exact = Function(V_sub)\n",
    "u_sub_exact.interpolate(ref_func)\n",
    "atol = 5 * np.finfo(default_scalar_type).resolution\n",
    "np.testing.assert_allclose(u_sub_exact.x.array, u_sub.x.array, atol=atol)\n",
    "\n",
    "# Map from sub to parent\n",
    "W = functionspace(mesh, (\"DG\", 4))\n",
    "w = Function(W)\n",
    "\n",
    "cell_imap = mesh.topology.index_map(tdim) \n",
    "num_cells = cell_imap.size_local + cell_imap.num_ghosts\n",
    "parent_to_sub = np.full(num_cells, -1, dtype=np.int32)\n",
    "parent_to_sub[sub_to_parent] = np.arange(len(sub_to_parent))\n",
    "\n",
    "# Mapping back needs to be restricted to the subset of cells in the submesh\n",
    "w.interpolate(u_sub_exact, cells=sub_to_parent, cell_map=parent_to_sub)\n",
    "\n",
    "w_exact = Function(W)\n",
    "w_exact.interpolate(ref_func, cells=cells)\n"
   ]
  },
  {
   "cell_type": "code",
   "execution_count": 7,
   "id": "93d5c496-1b53-44f4-9806-f208eb65df58",
   "metadata": {},
   "outputs": [
    {
     "data": {
      "text/plain": [
       "array([-1, -1, -1, -1, -1, -1, -1, -1, -1, -1, -1, -1,  0, -1, -1, -1,  1,\n",
       "       -1, -1, -1,  2,  3, -1, -1, -1,  4,  5, -1, -1, -1,  6,  7,  8, -1,\n",
       "       -1, -1,  9, 10, 11, -1, -1, -1, 12, 13, 14, -1, -1, -1, 15, 16, 17,\n",
       "       -1, -1, -1, 18, 19, 20, -1, -1, 21, 22, 23, -1, -1, 24, 25, 26, -1,\n",
       "       27, 28, 29, -1, 30, 31, 32, 33, 34, 35, 36, 37, 38, 39, 40, 41],\n",
       "      dtype=int32)"
      ]
     },
     "execution_count": 7,
     "metadata": {},
     "output_type": "execute_result"
    }
   ],
   "source": [
    "parent_to_sub"
   ]
  },
  {
   "cell_type": "code",
   "execution_count": null,
   "id": "a04cea86-6d42-47f9-96e2-aa524fcc322a",
   "metadata": {},
   "outputs": [],
   "source": []
  }
 ],
 "metadata": {
  "kernelspec": {
   "display_name": "Python 3 (ipykernel)",
   "language": "python",
   "name": "python3"
  },
  "language_info": {
   "codemirror_mode": {
    "name": "ipython",
    "version": 3
   },
   "file_extension": ".py",
   "mimetype": "text/x-python",
   "name": "python",
   "nbconvert_exporter": "python",
   "pygments_lexer": "ipython3",
   "version": "3.10.12"
  }
 },
 "nbformat": 4,
 "nbformat_minor": 5
}
