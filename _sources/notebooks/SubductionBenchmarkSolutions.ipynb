{
 "cells": [
  {
   "cell_type": "markdown",
   "id": "edf2fb7b-ac53-4d67-8fad-4f94f62adb7d",
   "metadata": {},
   "source": [
    "# Subduction Benchmark Solutions"
   ]
  },
  {
   "cell_type": "markdown",
   "id": "6e34c38f-5d19-4741-a5f2-03db72ace774",
   "metadata": {},
   "source": [
    "## Load"
   ]
  },
  {
   "cell_type": "code",
   "execution_count": null,
   "id": "ab44bc2a-31ac-45b3-9d32-165412442cd1",
   "metadata": {},
   "outputs": [],
   "source": [
    "%run SubductionBenchmark.ipynb"
   ]
  },
  {
   "cell_type": "markdown",
   "id": "7c1bc2b0-2e6e-4588-868b-c0f85aa5adb5",
   "metadata": {},
   "source": [
    "## Higher Resolution"
   ]
  },
  {
   "cell_type": "markdown",
   "id": "be7a5d97-ae8f-48eb-97c6-78af570ceaeb",
   "metadata": {},
   "source": [
    "### Case 1"
   ]
  },
  {
   "cell_type": "code",
   "execution_count": null,
   "id": "a403c32d-1e51-4041-85db-e448fdf1f67d",
   "metadata": {},
   "outputs": [],
   "source": [
    "resscale2 = 2.0\n",
    "slab_resscale2 = create_slab(xs, ys, resscale2, lc_depth)\n",
    "geom_resscale2 = create_sz_geometry(slab_resscale2, resscale2, sztype, io_depth_1, extra_width, \n",
    "                           coast_distance, lc_depth, uc_depth)\n",
    "sz_resscale2 = SubductionProblem(geom_resscale2, A=A, Vs=Vs, sztype=sztype, qs=qs)\n",
    "print(\"\\nSolving steady state flow with isoviscous rheology...\")\n",
    "sz_resscale2.solve_steadystate_isoviscous()"
   ]
  },
  {
   "cell_type": "code",
   "execution_count": null,
   "id": "9ae8f156-5cdb-41fe-a371-98a001157944",
   "metadata": {},
   "outputs": [],
   "source": [
    "diag_resscale2 = sz_resscale2.get_diagnostics()\n",
    "T_ndof_resscale2 = sz_resscale2.V_T.dofmap.index_map.size_global * sz.V_T.dofmap.index_map_bs\n",
    "\n",
    "print('')\n",
    "print('{:<12} {:<12} {:<12} {:<12} {:<12} {:<12}'.format('resscale', 'T_ndof', 'T_{200,-100}', 'Tbar_s', 'Tbar_w', 'Vrmsw'))\n",
    "print('{:<12.4g} {:<12d} {:<12.4f} {:<12.4f} {:<12.4f} {:<12.4f}'.format(resscale2, T_ndof_resscale2, diag_resscale2[0], diag_resscale2[1], diag_resscale2[2], diag_resscale2[3]))"
   ]
  },
  {
   "cell_type": "markdown",
   "id": "7a222a93-cc89-43d3-8666-27095bebeff5",
   "metadata": {},
   "source": [
    "For comparison here are the values reported for case 1 using [TerraFERMA](https://terraferma.github.io) in [Wilson & van Keken, 2023](http://dx.doi.org/10.1186/s40645-023-00588-6):\n",
    "\n",
    "| `resscale` | $T_{\\text{ndof}} $ | $T_{(200,-100)}^*$ | $\\overline{T}_s^*$ | $ \\overline{T}_w^* $ |  $V_{\\text{rms},w}^*$ |\n",
    "| - | - | - | - | - | - |\n",
    "| 2.0 | 21403  | 517.17 | 451.83 | 926.62 | 34.64 |\n",
    "| 1.0 | 83935  | 516.95 | 451.71 | 926.33 | 34.64 |\n",
    "| 0.5 | 332307 | 516.86 | 451.63 | 926.15 | 34.64 |"
   ]
  },
  {
   "cell_type": "code",
   "execution_count": null,
   "id": "414788ff-fe42-4de4-a88b-4c6a902a505a",
   "metadata": {},
   "outputs": [],
   "source": [
    "utils.plot_scalar(sz_resscale2.T_i)"
   ]
  },
  {
   "cell_type": "markdown",
   "id": "9e25f250-9073-46c4-b74f-b2de7f8af42c",
   "metadata": {},
   "source": [
    "### Case 2"
   ]
  },
  {
   "cell_type": "code",
   "execution_count": null,
   "id": "4e7245c9-3f06-425a-8a6b-8dc487d7a654",
   "metadata": {},
   "outputs": [],
   "source": [
    "geom_case2_resscale2 = create_sz_geometry(slab_resscale2, resscale2, sztype, io_depth_2, extra_width, \n",
    "                                          coast_distance, lc_depth, uc_depth)\n",
    "sz_case2_resscale2 = SubductionProblem(geom_case2_resscale2, A=A, Vs=Vs, sztype=sztype, qs=qs)\n",
    "print(\"\\nSolving steady state flow with dislocation creep rheology...\")\n",
    "sz_case2_resscale2.solve_steadystate_dislocationcreep()"
   ]
  },
  {
   "cell_type": "code",
   "execution_count": null,
   "id": "9b999ed9-2934-4c26-9c5a-d22240c7e580",
   "metadata": {},
   "outputs": [],
   "source": [
    "diag_case2_resscale2 = sz_case2_resscale2.get_diagnostics()\n",
    "T_ndof_case2_resscale2 = sz_case2_resscale2.V_T.dofmap.index_map.size_global * sz.V_T.dofmap.index_map_bs\n",
    "\n",
    "print('')\n",
    "print('{:<12} {:<12} {:<12} {:<12} {:<12} {:<12}'.format('resscale', 'T_ndof', 'T_{200,-100}', 'Tbar_s', 'Tbar_w', 'Vrmsw'))\n",
    "print('{:<12.4g} {:<12d} {:<12.4f} {:<12.4f} {:<12.4f} {:<12.4f}'.format(resscale2, T_ndof_case2_resscale2, diag_case2_resscale2[0], diag_case2_resscale2[1], diag_case2_resscale2[2], diag_case2_resscale2[3]))"
   ]
  },
  {
   "cell_type": "markdown",
   "id": "e4aa4549-beb7-491d-81b6-e8085d828222",
   "metadata": {},
   "source": [
    "For comparison here are the values reported for case 2 using [TerraFERMA](https://terraferma.github.io) in [Wilson & van Keken, 2023](http://dx.doi.org/10.1186/s40645-023-00588-6):\n",
    "\n",
    "| `resscale` | $T_{\\text{ndof}} $ | $T_{(200,-100)}^*$ | $\\overline{T}_s^*$ | $ \\overline{T}_w^* $ |  $V_{\\text{rms},w}^*$ |\n",
    "| - | - | - | - | - | - |\n",
    "| 2.0 | 21403  | 683.05 | 571.58 | 936.65 | 40.89 |\n",
    "| 1.0 | 83935 | 682.87 | 572.23 | 936.11 | 40.78 |\n",
    "| 0.5 | 332307 | 682.80 | 572.05 | 937.37 | 40.77 |"
   ]
  },
  {
   "cell_type": "code",
   "execution_count": null,
   "id": "1ea98d39-cf44-4aa9-901b-0ef6df4d2edc",
   "metadata": {},
   "outputs": [],
   "source": [
    "utils.plot_scalar(sz_case2_resscale2.T_i)"
   ]
  },
  {
   "cell_type": "markdown",
   "id": "9fdf1aa4-c3b1-4ff8-966a-53338137bab3",
   "metadata": {},
   "source": [
    "## Global Suite"
   ]
  },
  {
   "cell_type": "markdown",
   "id": "ec168e13-06c5-463f-91ea-b05ad26cf83c",
   "metadata": {},
   "source": [
    "Load the data"
   ]
  },
  {
   "cell_type": "code",
   "execution_count": null,
   "id": "ffde75b2-375c-4114-93d6-99ef4676030e",
   "metadata": {},
   "outputs": [],
   "source": [
    "allsz_filename = os.path.join(os.pardir, \"data\", \"all_sz.json\")\n",
    "with open(allsz_filename, \"r\") as fp:\n",
    "    allsz_params = json.load(fp)"
   ]
  },
  {
   "cell_type": "markdown",
   "id": "ef70e714-df11-4051-b02e-c4e5073543f5",
   "metadata": {},
   "source": [
    "### Alaska Peninsula (dislocation creep, low res)"
   ]
  },
  {
   "cell_type": "code",
   "execution_count": null,
   "id": "3c63a131-2c94-4319-840d-dbf69542645b",
   "metadata": {},
   "outputs": [],
   "source": [
    "szdict = allsz_params['01_Alaska_Peninsula']\n",
    "slab_ak = create_slab(szdict['xs'], szdict['ys'], resscale, szdict['lc_depth'])\n",
    "geom_ak = create_sz_geometry(slab_ak, resscale, szdict['sztype'], szdict['io_depth'], szdict['extra_width'], \n",
    "                             szdict['coast_distance'], szdict['lc_depth'], szdict['uc_depth'])\n",
    "sz_ak = SubductionProblem(geom_ak, **szdict)\n",
    "print(\"\\nSolving steady state flow with isoviscous rheology...\")\n",
    "sz_ak.solve_steadystate_dislocationcreep()"
   ]
  },
  {
   "cell_type": "code",
   "execution_count": null,
   "id": "474888b8-2b80-4de7-8f58-5903cf47beff",
   "metadata": {},
   "outputs": [],
   "source": [
    "utils.plot_scalar(sz_ak.T_i)"
   ]
  },
  {
   "cell_type": "code",
   "execution_count": null,
   "id": "346651e2-1a4b-48ea-a8ec-3dbd4e1186fe",
   "metadata": {},
   "outputs": [],
   "source": [
    "sz_ak.geom.plot()"
   ]
  },
  {
   "cell_type": "markdown",
   "id": "c7befbfa-09e0-4d54-9b33-d83c7eaeb15a",
   "metadata": {},
   "source": [
    "### N Antilles (dislocation creep, low res)"
   ]
  },
  {
   "cell_type": "code",
   "execution_count": null,
   "id": "2297560c-778c-4816-bbf6-c39d15cf5ef6",
   "metadata": {},
   "outputs": [],
   "source": [
    "szdict = allsz_params['19_N_Antilles']\n",
    "slab_ant = create_slab(szdict['xs'], szdict['ys'], resscale, szdict['lc_depth'])\n",
    "geom_ant = create_sz_geometry(slab_ant, resscale, szdict['sztype'], szdict['io_depth'], szdict['extra_width'], \n",
    "                             szdict['coast_distance'], szdict['lc_depth'], szdict['uc_depth'])\n",
    "sz_ant = SubductionProblem(geom_ant, **szdict)\n",
    "print(\"\\nSolving steady state flow with isoviscous rheology...\")\n",
    "sz_ant.solve_steadystate_dislocationcreep()"
   ]
  },
  {
   "cell_type": "code",
   "execution_count": null,
   "id": "9f940980-ae06-44a5-9741-cf5e76c340fd",
   "metadata": {},
   "outputs": [],
   "source": [
    "utils.plot_scalar(sz_ant.T_i)\n",
    "eta_i = sz_ant.project_dislocationcreep_viscosity()\n",
    "utils.plot_scalar(eta_i, scale=sz_ant.eta0, log_scale=True, show_edges=True)"
   ]
  },
  {
   "cell_type": "code",
   "execution_count": null,
   "id": "32396bd3-21ff-44af-9bce-3c3f0a3637d5",
   "metadata": {},
   "outputs": [],
   "source": [
    "sz_ant.geom.plot()"
   ]
  },
  {
   "cell_type": "code",
   "execution_count": null,
   "id": "81a9fc5f-323c-41c0-8ff0-d3f6bc7205d6",
   "metadata": {},
   "outputs": [],
   "source": []
  }
 ],
 "metadata": {
  "kernelspec": {
   "display_name": "Python 3 (ipykernel)",
   "language": "python",
   "name": "python3"
  },
  "language_info": {
   "codemirror_mode": {
    "name": "ipython",
    "version": 3
   },
   "file_extension": ".py",
   "mimetype": "text/x-python",
   "name": "python",
   "nbconvert_exporter": "python",
   "pygments_lexer": "ipython3",
   "version": "3.10.12"
  }
 },
 "nbformat": 4,
 "nbformat_minor": 5
}
