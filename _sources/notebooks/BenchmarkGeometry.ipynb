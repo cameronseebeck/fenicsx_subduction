{
 "cells": [
  {
   "cell_type": "markdown",
   "id": "744ce8aa-b27d-4d1b-b830-5448a1002c96",
   "metadata": {},
   "source": [
    "# Benchmark Geometry"
   ]
  },
  {
   "cell_type": "markdown",
   "id": "c1c3a8c8-d62e-4563-b3ad-441fde935e27",
   "metadata": {},
   "source": [
    "Set up the PYTHONPATH so it can find the python modules we'll be using."
   ]
  },
  {
   "cell_type": "code",
   "execution_count": null,
   "id": "0a8773b5",
   "metadata": {},
   "outputs": [],
   "source": [
    "import sys, os\n",
    "sys.path.append(os.path.join(os.path.pardir, 'python'))\n",
    "params_filename = os.path.join(os.pardir, \"data\", \"default_params.json\")"
   ]
  },
  {
   "cell_type": "markdown",
   "id": "8fcc84e7-ed2e-4245-9f24-24c561e134c3",
   "metadata": {},
   "source": [
    "Load the default parameters"
   ]
  },
  {
   "cell_type": "code",
   "execution_count": null,
   "id": "a8b590c8-83d3-4743-a22f-cafc6dde219c",
   "metadata": {},
   "outputs": [],
   "source": [
    "import json\n",
    "with open(params_filename, \"r\") as fp:\n",
    "    default_params = json.load(fp)"
   ]
  },
  {
   "cell_type": "markdown",
   "id": "c38b0041-c784-45ca-8005-51996b493323",
   "metadata": {},
   "source": [
    "Import the geometry module"
   ]
  },
  {
   "cell_type": "code",
   "execution_count": null,
   "id": "f2d9c5c5",
   "metadata": {},
   "outputs": [],
   "source": [
    "import geometry as geo"
   ]
  },
  {
   "cell_type": "markdown",
   "id": "469a4966-f893-4203-9e71-80a2becfd01b",
   "metadata": {},
   "source": [
    "Set the base resolution that will be used throughout"
   ]
  },
  {
   "cell_type": "code",
   "execution_count": null,
   "id": "e277a5cd-2bb7-49bd-a999-39ccabdf1770",
   "metadata": {},
   "outputs": [],
   "source": [
    "minres = 10.0"
   ]
  },
  {
   "cell_type": "code",
   "execution_count": null,
   "id": "11bf2823",
   "metadata": {},
   "outputs": [],
   "source": [
    "geo.SlabSpline?"
   ]
  },
  {
   "cell_type": "code",
   "execution_count": null,
   "id": "39dce773-1602-4b25-880c-81ba55ee9e57",
   "metadata": {},
   "outputs": [],
   "source": [
    "coast_distance = 0\n",
    "extra_width = 0\n",
    "lc_depth = 40\n",
    "uc_depth = 15\n",
    "io_depth = 139\n",
    "xs = [0.0, 140.0, 240.0, 400.0]\n",
    "ys = [0.0, -70.0, -120.0, -200.0]\n",
    "res = [1*minres if y >= -default_params[\"slab_diag_depth2\"] else 3*minres for y in ys]\n",
    "res"
   ]
  },
  {
   "cell_type": "code",
   "execution_count": null,
   "id": "4255ec54-2db2-41c5-aca9-becd27e2899f",
   "metadata": {},
   "outputs": [],
   "source": [
    "# set up the surface ids for the slab depending on depth\n",
    "sids = []\n",
    "for y in ys[1:]:\n",
    "    if y >= -lc_depth: \n",
    "        sid = default_params['fault_sid']\n",
    "    elif y >= -default_params['slab_diag_depth1']:\n",
    "        sid = default_params['slab_sid']\n",
    "    elif y >= -default_params['slab_diag_depth2']:\n",
    "        sid = default_params['slab_diag_sid']\n",
    "    else:\n",
    "        sid = default_params['slab_sid']\n",
    "    sids.append(sid)\n",
    "sids"
   ]
  },
  {
   "cell_type": "code",
   "execution_count": null,
   "id": "d2db8bde-44f2-4158-a0d1-a28f3b1fa182",
   "metadata": {},
   "outputs": [],
   "source": [
    "# set up the slab spline\n",
    "slab = geo.SlabSpline(xs, ys, res=res, sid=sids, name=\"Slab\")\n",
    "print(len(slab.points))"
   ]
  },
  {
   "cell_type": "code",
   "execution_count": null,
   "id": "7932ec49-4f9f-46a7-96ea-8a054a07297c",
   "metadata": {},
   "outputs": [],
   "source": [
    "# adding the coupling depths may or may not be necessary\n",
    "# depending on if they were included in the slab spline data already or not\n",
    "# the slab class should ignore them if they aren't necessary\n",
    "slab.addpoint(default_params['partial_coupling_depth'], \"Slab::PartialCouplingDepth\", \n",
    "              res=default_params['partial_coupling_depth_res_fact']*minres, \n",
    "              sid=default_params['slab_diag_sid'])\n",
    "slab.addpoint(default_params['full_coupling_depth'], \"Slab::FullCouplingDepth\", \n",
    "              res=default_params['full_coupling_depth_res_fact']*minres, \n",
    "              sid=default_params['slab_diag_sid'])\n",
    "# add the slab detector point\n",
    "slab.addpoint(default_params[\"slab_det_depth\"], \"Slab::DetectorPoint\", \n",
    "              res=default_params[\"full_coupling_depth_res_fact\"]*minres,\n",
    "              sid=default_params['slab_diag_sid'])\n",
    "print(len(slab.points))"
   ]
  },
  {
   "cell_type": "code",
   "execution_count": null,
   "id": "8dec8c75-17b8-464f-b666-cbb2b86e6697",
   "metadata": {},
   "outputs": [],
   "source": [
    "geo.SubductionGeometry?"
   ]
  },
  {
   "cell_type": "code",
   "execution_count": null,
   "id": "da0206e5",
   "metadata": {},
   "outputs": [],
   "source": [
    "geom = geo.SubductionGeometry(slab, **default_params, \n",
    "                              wedge_side_top_res=default_params[\"wedge_side_top_res_fact\"]*minres,\n",
    "                              wedge_side_base_res=default_params[\"wedge_side_base_res_fact\"]*minres,\n",
    "                              slab_side_base_res=default_params[\"slab_side_base_res_fact\"]*minres,\n",
    "                              coast_res=default_params[\"coast_res_fact\"]*minres,\n",
    "                              coast_distance=coast_distance, extra_width=extra_width)\n",
    "geom.plot()"
   ]
  },
  {
   "cell_type": "code",
   "execution_count": null,
   "id": "b6822c27-ee91-4b9a-9526-7e8ae9696835",
   "metadata": {},
   "outputs": [],
   "source": [
    "# add a lower crust\n",
    "geom.addcrustlayer(lc_depth, \"LowerCrust\", \n",
    "                   sid=default_params[\"lc_base_sid\"], rid=default_params[\"lc_rid\"],\n",
    "                   slab_res=default_params[\"lc_slab_res_fact\"]*minres,\n",
    "                   side_res=default_params[\"lc_side_res_fact\"]*minres,\n",
    "                   slab_sid=default_params[\"fault_sid\"],\n",
    "                   side_sid=default_params[\"lc_side_sid\"])\n",
    "geom.plot()"
   ]
  },
  {
   "cell_type": "code",
   "execution_count": null,
   "id": "1f39615b-85b9-4ccd-b9ac-bf19223721b2",
   "metadata": {},
   "outputs": [],
   "source": [
    "geom.addcrustlayer(uc_depth, \"UpperCrust\", \n",
    "                   sid=default_params[\"uc_base_sid\"], rid=default_params[\"uc_rid\"],\n",
    "                   slab_res=default_params[\"uc_slab_res_fact\"]*minres,\n",
    "                   side_res=default_params[\"uc_side_res_fact\"]*minres,\n",
    "                   slab_sid=default_params[\"fault_sid\"],\n",
    "                   side_sid=default_params[\"uc_side_sid\"])\n",
    "geom.plot()"
   ]
  },
  {
   "cell_type": "code",
   "execution_count": null,
   "id": "3e0e95e3-65cc-4e8c-acad-c6e2e0c6b4fd",
   "metadata": {},
   "outputs": [],
   "source": [
    "# add the pre-defined in-out point\n",
    "geom.addwedgesidepoint(io_depth, \"WedgeSide::InOut\", line_name=\"UpperWedgeSide\", \n",
    "                       res=default_params[\"io_depth_res_fact\"]*minres, \n",
    "                       sid=default_params[\"upper_wedge_side_sid\"])\n",
    "geom.plot()"
   ]
  },
  {
   "cell_type": "code",
   "execution_count": null,
   "id": "e7102e72-1e67-4970-b410-fd0d9cbdeff9",
   "metadata": {},
   "outputs": [],
   "source": [
    "# add wedge dividers for the diagnostics\n",
    "geom.addwedgedivider(default_params[\"slab_diag_depth1\"], \"ColdCorner\", \n",
    "                     slab_res=default_params[\"slab_diag_res2_fact\"]*minres, \n",
    "                     top_res=default_params[\"slab_diag_res2_fact\"]*minres,\n",
    "                     rid=default_params[\"wedge_rid\"], \n",
    "                     slab_sid=default_params[\"slab_sid\"])\n",
    "geom.plot()"
   ]
  },
  {
   "cell_type": "code",
   "execution_count": null,
   "id": "73e55ef6-b96b-47fd-88bb-e6b1ab19c48f",
   "metadata": {},
   "outputs": [],
   "source": [
    "# add wedge dividers for the diagnostics\n",
    "geom.addwedgedivider(default_params[\"slab_diag_depth2\"], \"WedgeFocused\", \n",
    "                     slab_res=default_params[\"slab_diag_res1_fact\"]*minres, \n",
    "                     top_res=default_params[\"slab_diag_res1_fact\"]*minres,\n",
    "                     rid=default_params[\"wedge_diag_rid\"], \n",
    "                     slab_sid=default_params[\"slab_diag_sid\"])\n",
    "geom.plot()"
   ]
  },
  {
   "cell_type": "code",
   "execution_count": null,
   "id": "d83d7274-d3ee-4f9b-969a-508f636ec260",
   "metadata": {},
   "outputs": [],
   "source": [
    "geom.plot(label_sids=True, label_rids=True)"
   ]
  },
  {
   "cell_type": "code",
   "execution_count": null,
   "id": "20b216b6-a87f-402f-b3e3-5c0f51b7d863",
   "metadata": {
    "scrolled": true
   },
   "outputs": [],
   "source": [
    "geom.writegeofile('benchmark.geo_unrolled')\n",
    "mesh, ct, ft = geom.generatemesh()"
   ]
  },
  {
   "cell_type": "code",
   "execution_count": null,
   "id": "3bcaf504-fd28-474c-b09e-50c7dac08a9d",
   "metadata": {
    "scrolled": true
   },
   "outputs": [],
   "source": []
  },
  {
   "cell_type": "code",
   "execution_count": null,
   "id": "edc116aa-5740-4f11-beb6-d22ccc661983",
   "metadata": {},
   "outputs": [],
   "source": [
    "import dolfinx\n",
    "import numpy as np\n",
    "import pyvista\n",
    "pyvista.start_xvfb()\n",
    "from dolfinx.plot import vtk_mesh\n",
    "topology, cell_types, x = vtk_mesh(mesh)\n",
    "grid = pyvista.UnstructuredGrid(topology, cell_types, x)\n",
    "num_local_cells = mesh.topology.index_map(mesh.topology.dim).size_local\n",
    "grid.cell_data[\"Marker\"] = ct.values[ct.indices<num_local_cells]\n",
    "grid.set_active_scalars(\"Marker\")\n",
    "\n",
    "p = pyvista.Plotter(window_size=[800, 800])\n",
    "p.add_mesh(grid, show_edges=True)\n",
    "p.view_xy()\n",
    "p.show()"
   ]
  },
  {
   "cell_type": "code",
   "execution_count": null,
   "id": "29cebe4c-e20a-45f2-a179-bd49fe04eab4",
   "metadata": {},
   "outputs": [],
   "source": [
    "tdim = mesh.topology.dim\n",
    "fdim = tdim - 1\n",
    "fcc = mesh.topology.connectivity(fdim, tdim)\n",
    "cft = np.zeros_like(ct.values)\n",
    "for f in range(ft.values.size):\n",
    "    for c in fcc.links(ft.indices[f]):\n",
    "        cft[c] = ft.values[f]\n",
    "import pyvista\n",
    "pyvista.start_xvfb()\n",
    "from dolfinx.plot import vtk_mesh\n",
    "topology, cell_types, x = vtk_mesh(mesh)\n",
    "grid = pyvista.UnstructuredGrid(topology, cell_types, x)\n",
    "grid.cell_data[\"Marker\"] = cft\n",
    "grid.set_active_scalars(\"Marker\")\n",
    "\n",
    "p = pyvista.Plotter(window_size=[800, 800])\n",
    "p.add_mesh(grid, show_edges=True)\n",
    "p.view_xy()\n",
    "p.show()"
   ]
  },
  {
   "cell_type": "code",
   "execution_count": null,
   "id": "6fed01aa-d73c-4aa8-b4b9-c5f120ba8c23",
   "metadata": {},
   "outputs": [],
   "source": []
  }
 ],
 "metadata": {
  "kernelspec": {
   "display_name": "Python 3 (ipykernel)",
   "language": "python",
   "name": "python3"
  },
  "language_info": {
   "codemirror_mode": {
    "name": "ipython",
    "version": 3
   },
   "file_extension": ".py",
   "mimetype": "text/x-python",
   "name": "python",
   "nbconvert_exporter": "python",
   "pygments_lexer": "ipython3",
   "version": "3.10.12"
  }
 },
 "nbformat": 4,
 "nbformat_minor": 5
}
