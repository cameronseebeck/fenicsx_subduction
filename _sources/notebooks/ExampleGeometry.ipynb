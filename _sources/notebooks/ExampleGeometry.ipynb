{
 "cells": [
  {
   "cell_type": "markdown",
   "id": "39db1eb4-8b9f-426c-a5e6-856dd534d4e2",
   "metadata": {},
   "source": [
    "# Example Geometry"
   ]
  },
  {
   "cell_type": "code",
   "execution_count": null,
   "id": "0a8773b5",
   "metadata": {},
   "outputs": [],
   "source": [
    "import sys, os\n",
    "sys.path.append(os.path.join(os.path.pardir, 'python'))"
   ]
  },
  {
   "cell_type": "code",
   "execution_count": null,
   "id": "f2d9c5c5",
   "metadata": {},
   "outputs": [],
   "source": [
    "import geometry as geo"
   ]
  },
  {
   "cell_type": "code",
   "execution_count": null,
   "id": "203a915a-8a9c-4283-aa5b-a5df3794188f",
   "metadata": {},
   "outputs": [],
   "source": [
    "minres = 10.0"
   ]
  },
  {
   "cell_type": "code",
   "execution_count": null,
   "id": "11bf2823",
   "metadata": {},
   "outputs": [],
   "source": [
    "geo.SlabSpline?"
   ]
  },
  {
   "cell_type": "code",
   "execution_count": null,
   "id": "62294531-6d65-4404-8105-7039116630e1",
   "metadata": {},
   "outputs": [],
   "source": [
    "xs = [0.0, 68.2, 154.2, 235, 248, 251, 270, 358, 392]\n",
    "ys = [-6, -15, -35, -70, -80, -82.5, -100, -200, -240]\n",
    "res = [1*minres]*(len(xs)-1)+[3*minres]\n",
    "slab = geo.SlabSpline(xs, ys, res=res, sid=1, name=\"Slab\")\n",
    "print(len(slab.points))"
   ]
  },
  {
   "cell_type": "code",
   "execution_count": null,
   "id": "76be646f-f4c9-4175-a96a-d48b5c91c8fe",
   "metadata": {},
   "outputs": [],
   "source": [
    "geo.SubductionGeometry?"
   ]
  },
  {
   "cell_type": "code",
   "execution_count": null,
   "id": "da0206e5",
   "metadata": {},
   "outputs": [],
   "source": [
    "geom = geo.SubductionGeometry(slab, slab_rid=1, wedge_rid=2, \n",
    "                                    slab_side_sid=2, wedge_side_sid=3, slab_base_sid=7, \n",
    "                                    wedge_base_sid=8, coast_sid=11, top_sid=12,\n",
    "                                    wedge_top_res=4*minres, slab_base_res=6*minres)\n",
    "geom.plot()"
   ]
  },
  {
   "cell_type": "code",
   "execution_count": null,
   "id": "3587bef1-4923-4c4e-aae1-fba416ccbd7a",
   "metadata": {},
   "outputs": [],
   "source": [
    "geom.update(coast_distance=260, extra_width=50)\n",
    "geom.plot()"
   ]
  },
  {
   "cell_type": "code",
   "execution_count": null,
   "id": "77a29b3c",
   "metadata": {},
   "outputs": [],
   "source": [
    "geom.addcrustlayer(35,\"LowerCrust\", sid=9, rid=3, slab_res=1*minres, side_res=4*minres, side_sid=5)\n",
    "print(len(slab.points))\n",
    "geom.plot()"
   ]
  },
  {
   "cell_type": "code",
   "execution_count": null,
   "id": "fd35cedf-d04b-4ce2-800f-e8437c5057ec",
   "metadata": {},
   "outputs": [],
   "source": [
    "geom.addcrustlayer(15,\"UpperCrust\", sid=10, rid=4, slab_res= 2*minres, side_res=4*minres, side_sid=6)\n",
    "print([geom.wedge_side_lines[i].name for i in range(len(geom.wedge_side_lines))])\n",
    "geom.plot()"
   ]
  },
  {
   "cell_type": "code",
   "execution_count": null,
   "id": "27b3928a-56db-4c7e-a212-493494f4a57d",
   "metadata": {},
   "outputs": [],
   "source": [
    "geom.addwedgesidepoint(185, \"WedgeSide::InOut\", line_name=\"UpperWedgeSide\", res=4*minres, sid=4)\n",
    "geom.plot()"
   ]
  },
  {
   "cell_type": "code",
   "execution_count": null,
   "id": "ec6c2dda-eb9f-47a2-8502-ba32dab66d42",
   "metadata": {
    "scrolled": true
   },
   "outputs": [],
   "source": [
    "mesh, ct, ft = geom.generatemesh()\n",
    "tdim = mesh.topology.dim\n",
    "mesh.topology.create_connectivity(tdim, tdim)"
   ]
  },
  {
   "cell_type": "code",
   "execution_count": null,
   "id": "6e2e633b-4d18-4d2d-bfa3-7e1595b59cbb",
   "metadata": {},
   "outputs": [],
   "source": [
    "import dolfinx\n",
    "import numpy as np\n",
    "\n",
    "V = dolfinx.fem.functionspace(mesh, (\"CG\", 2))"
   ]
  },
  {
   "cell_type": "code",
   "execution_count": null,
   "id": "37cd4f60-6d06-42de-9974-6aede6726bcd",
   "metadata": {},
   "outputs": [],
   "source": [
    "all_slab_dofs = dolfinx.fem.locate_dofs_topological(V, 2, ct.find(1))\n",
    "all_slab_dofs.size"
   ]
  },
  {
   "cell_type": "code",
   "execution_count": null,
   "id": "bfd0feb5-76c8-4ef8-86a9-872df28d096d",
   "metadata": {},
   "outputs": [],
   "source": [
    "all_wedge_dofs = dolfinx.fem.locate_dofs_topological(V, 2, ct.find(2))\n",
    "all_wedge_dofs.size"
   ]
  },
  {
   "cell_type": "code",
   "execution_count": null,
   "id": "c1c4becb-87ff-42e4-9231-a7ae6037e48b",
   "metadata": {},
   "outputs": [],
   "source": [
    "slab_surface_dofs = dolfinx.fem.locate_dofs_topological(V, 1, ft.find(1))\n",
    "slab_surface_dofs.size"
   ]
  },
  {
   "cell_type": "code",
   "execution_count": null,
   "id": "bd9f0768-e2fe-4b7b-8ad0-a9cebbc0c8dd",
   "metadata": {},
   "outputs": [],
   "source": [
    "slab_dofs = np.asarray([dof for dof in all_slab_dofs if dof not in slab_surface_dofs])\n",
    "slab_dofs.size"
   ]
  },
  {
   "cell_type": "code",
   "execution_count": null,
   "id": "371332e7-9f91-4f33-9c96-0cee75b98883",
   "metadata": {},
   "outputs": [],
   "source": [
    "wedge_dofs = np.asarray([dof for dof in all_wedge_dofs if dof not in slab_surface_dofs])\n",
    "wedge_dofs.size"
   ]
  },
  {
   "cell_type": "code",
   "execution_count": null,
   "id": "4e417132-d372-41d5-8127-a2fc61923126",
   "metadata": {},
   "outputs": [],
   "source": []
  }
 ],
 "metadata": {
  "kernelspec": {
   "display_name": "Python 3 (ipykernel)",
   "language": "python",
   "name": "python3"
  },
  "language_info": {
   "codemirror_mode": {
    "name": "ipython",
    "version": 3
   },
   "file_extension": ".py",
   "mimetype": "text/x-python",
   "name": "python",
   "nbconvert_exporter": "python",
   "pygments_lexer": "ipython3",
   "version": "3.10.12"
  }
 },
 "nbformat": 4,
 "nbformat_minor": 5
}
