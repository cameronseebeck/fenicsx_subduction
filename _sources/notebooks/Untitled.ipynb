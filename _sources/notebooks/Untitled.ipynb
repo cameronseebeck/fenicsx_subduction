{
 "cells": [
  {
   "cell_type": "code",
   "execution_count": 1,
   "id": "66bff23c-0a2b-4886-8439-a007310c95c1",
   "metadata": {},
   "outputs": [],
   "source": [
    "from mpi4py import MPI\n",
    "import dolfinx as df\n",
    "import dolfinx.fem.petsc\n",
    "import numpy as np\n",
    "import scipy as sp\n",
    "import ufl\n",
    "import basix.ufl as bu"
   ]
  },
  {
   "cell_type": "code",
   "execution_count": 2,
   "id": "0839e797-147f-4ef0-a84e-ad7fd6475ebf",
   "metadata": {},
   "outputs": [],
   "source": [
    "mesh = df.mesh.create_unit_interval(MPI.COMM_WORLD, 4)"
   ]
  },
  {
   "cell_type": "code",
   "execution_count": 3,
   "id": "6034543f-b022-4c1c-82b2-4fa22c21da57",
   "metadata": {},
   "outputs": [],
   "source": [
    "def Omega_0(x):\n",
    "    return x[1] <= 0.5\n",
    "\n",
    "\n",
    "def Omega_1(x):\n",
    "    return x[1] >= 0.5"
   ]
  },
  {
   "cell_type": "code",
   "execution_count": 5,
   "id": "495c954e-0fb4-4a7e-b9e3-644f26e2f3ca",
   "metadata": {},
   "outputs": [],
   "source": [
    "cells_0 = df.mesh.locate_entities(mesh, mesh.topology.dim, Omega_0)\n",
    "cells_1 = df.mesh.locate_entities(mesh, mesh.topology.dim, Omega_1)"
   ]
  },
  {
   "cell_type": "code",
   "execution_count": null,
   "id": "36e3bcd4-6a53-445f-aaa0-078d9e5e20ac",
   "metadata": {},
   "outputs": [],
   "source": [
    "def create_meshtags(msh, dim, entities):\n",
    "    values = np.full_like(entities, 1, dtype=np.intc)\n",
    "    perm = np.argsort(entities)\n",
    "    return meshtags(msh, dim, entities[perm], values[perm])"
   ]
  },
  {
   "cell_type": "code",
   "execution_count": 7,
   "id": "a2666707-b827-4900-9fd5-ac6eaacbcf0b",
   "metadata": {},
   "outputs": [
    {
     "ename": "AttributeError",
     "evalue": "module 'dolfinx.mesh' has no attribute 'create_meshtags'",
     "output_type": "error",
     "traceback": [
      "\u001b[0;31m---------------------------------------------------------------------------\u001b[0m",
      "\u001b[0;31mAttributeError\u001b[0m                            Traceback (most recent call last)",
      "Cell \u001b[0;32mIn[7], line 1\u001b[0m\n\u001b[0;32m----> 1\u001b[0m mt_0 \u001b[38;5;241m=\u001b[39m \u001b[43mdf\u001b[49m\u001b[38;5;241;43m.\u001b[39;49m\u001b[43mmesh\u001b[49m\u001b[38;5;241;43m.\u001b[39;49m\u001b[43mcreate_meshtags\u001b[49m(mesh, mesh\u001b[38;5;241m.\u001b[39mtopology\u001b[38;5;241m.\u001b[39mdim, cells_0)\n",
      "\u001b[0;31mAttributeError\u001b[0m: module 'dolfinx.mesh' has no attribute 'create_meshtags'"
     ]
    }
   ],
   "source": [
    "mt_0 = df.mesh.create_meshtags(mesh, mesh.topology.dim, cells_0)"
   ]
  },
  {
   "cell_type": "code",
   "execution_count": 8,
   "id": "8e795f1f-78b7-4d83-8200-62f1919b6586",
   "metadata": {},
   "outputs": [
    {
     "data": {
      "text/plain": [
       "\u001b[0;31mSignature:\u001b[0m \u001b[0mdf\u001b[0m\u001b[0;34m.\u001b[0m\u001b[0mmesh\u001b[0m\u001b[0;34m.\u001b[0m\u001b[0mcreate_submesh\u001b[0m\u001b[0;34m(\u001b[0m\u001b[0mmsh\u001b[0m\u001b[0;34m,\u001b[0m \u001b[0mdim\u001b[0m\u001b[0;34m,\u001b[0m \u001b[0mentities\u001b[0m\u001b[0;34m)\u001b[0m\u001b[0;34m\u001b[0m\u001b[0;34m\u001b[0m\u001b[0m\n",
       "\u001b[0;31mDocstring:\u001b[0m <no docstring>\n",
       "\u001b[0;31mFile:\u001b[0m      /usr/local/dolfinx-real/lib/python3.10/dist-packages/dolfinx/mesh.py\n",
       "\u001b[0;31mType:\u001b[0m      function"
      ]
     },
     "metadata": {},
     "output_type": "display_data"
    }
   ],
   "source": [
    "df.mesh.create_submesh?"
   ]
  },
  {
   "cell_type": "code",
   "execution_count": null,
   "id": "bfb0cf84-654b-4f18-ba35-82b1096baab6",
   "metadata": {},
   "outputs": [],
   "source": []
  }
 ],
 "metadata": {
  "kernelspec": {
   "display_name": "Python 3 (ipykernel)",
   "language": "python",
   "name": "python3"
  },
  "language_info": {
   "codemirror_mode": {
    "name": "ipython",
    "version": 3
   },
   "file_extension": ".py",
   "mimetype": "text/x-python",
   "name": "python",
   "nbconvert_exporter": "python",
   "pygments_lexer": "ipython3",
   "version": "3.10.12"
  }
 },
 "nbformat": 4,
 "nbformat_minor": 5
}
