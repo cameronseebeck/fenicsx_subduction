{
 "cells": [
  {
   "cell_type": "code",
   "execution_count": 1,
   "id": "67997066-16e8-45ae-bc9c-8367db97c5fa",
   "metadata": {},
   "outputs": [],
   "source": [
    "import jdc"
   ]
  },
  {
   "cell_type": "code",
   "execution_count": 2,
   "id": "f88e3fe5-c8dc-402e-8ce6-279bde965681",
   "metadata": {},
   "outputs": [],
   "source": [
    "class dog(object):\n",
    "    def __init__(self, name, noise):\n",
    "        self.name = name\n",
    "        self.noise = noise\n",
    "\n",
    "\n",
    "rover = dog('Rover', 'ruff')\n",
    "spot = dog('Spot', 'woof')"
   ]
  },
  {
   "cell_type": "raw",
   "id": "c617c8f8-fb4c-426f-89ff-0bfde67bba83",
   "metadata": {},
   "source": [
    "rover.bark(1)\n",
    "spot.bark(2)"
   ]
  },
  {
   "cell_type": "code",
   "execution_count": 4,
   "id": "59f9cdc0-00bf-4424-9e64-380587e70ca0",
   "metadata": {},
   "outputs": [],
   "source": [
    "%%add_to dog\n",
    "def bark(self, times=1):\n",
    "    saying = ('%s ' % self.noise) * times\n",
    "    print(\"%s says: %s\" % (self.name, saying))\n",
    "\n",
    "def bark2(self, times=1):\n",
    "    saying = ('%s ' % self.noise) * times\n",
    "    print(\"%s says: %s\" % (self.name, saying))"
   ]
  },
  {
   "cell_type": "code",
   "execution_count": 5,
   "id": "a0c266de-f916-4eb9-a4c9-57870c915c2a",
   "metadata": {},
   "outputs": [
    {
     "name": "stdout",
     "output_type": "stream",
     "text": [
      "Rover says: ruff \n",
      "Spot says: woof woof \n"
     ]
    }
   ],
   "source": [
    "rover.bark(1)\n",
    "spot.bark(2)"
   ]
  },
  {
   "cell_type": "code",
   "execution_count": 6,
   "id": "f296e904-b017-4f1c-b96e-736a75341bd5",
   "metadata": {},
   "outputs": [],
   "source": [
    "%%add_to spot\n",
    "def sit(self):\n",
    "    print('%s is now sitting' % self.name)"
   ]
  },
  {
   "cell_type": "code",
   "execution_count": 7,
   "id": "ed641c20-9941-4725-84a5-4e6c940c4b06",
   "metadata": {},
   "outputs": [
    {
     "name": "stdout",
     "output_type": "stream",
     "text": [
      "Spot is now sitting\n"
     ]
    }
   ],
   "source": [
    "spot.sit()"
   ]
  },
  {
   "cell_type": "code",
   "execution_count": 9,
   "id": "54d3ec31-2db0-42e7-bb2c-4a00c0036309",
   "metadata": {},
   "outputs": [
    {
     "name": "stdout",
     "output_type": "stream",
     "text": [
      "Rover doesn't know that trick\n"
     ]
    }
   ],
   "source": [
    "try:\n",
    "    rover.sit()\n",
    "except AttributeError:\n",
    "    print(\"%s doesn't know that trick\" % rover.name)"
   ]
  },
  {
   "cell_type": "code",
   "execution_count": 10,
   "id": "41c79542-5069-461d-a409-e7a289d4b4c3",
   "metadata": {},
   "outputs": [],
   "source": [
    "%%add_to spot\n",
    "def rollover(self):\n",
    "    print(\"%s rolled over\" % self.name)\n",
    "\n",
    "def highfive(self):\n",
    "    print(\"%s is trying to high five you\" % self.name)\n",
    "\n",
    "def domytaxes(self):\n",
    "    print(\"%s is just showing off now\" % self.name)"
   ]
  },
  {
   "cell_type": "code",
   "execution_count": 11,
   "id": "a1cfcf8f-9d80-42fa-88f3-688f6b5b9d99",
   "metadata": {},
   "outputs": [
    {
     "name": "stdout",
     "output_type": "stream",
     "text": [
      "Spot rolled over\n",
      "Spot is trying to high five you\n",
      "Spot is just showing off now\n"
     ]
    }
   ],
   "source": [
    "spot.rollover()\n",
    "spot.highfive()\n",
    "spot.domytaxes()"
   ]
  },
  {
   "cell_type": "code",
   "execution_count": 12,
   "id": "fbd255b3-192d-4ebc-9e5c-b5c9d0ca120b",
   "metadata": {},
   "outputs": [],
   "source": [
    "%%add_to dog\n",
    "def race(func):\n",
    "    def wrapper(self):\n",
    "        import time\n",
    "        t1 = time.time()\n",
    "        func(self)\n",
    "        t2 = time.time()\n",
    "        print(\"A new record time, %s finished in: \" % self.name + str((t2 - t1)) + \" seconds!\\n\")\n",
    "    return wrapper\n",
    "\n",
    "@race\n",
    "def race_course(self):\n",
    "    print(\"%s finished the course.\" % self.name)"
   ]
  },
  {
   "cell_type": "code",
   "execution_count": 13,
   "id": "2ba384c1-5334-49bc-b6f8-48c38fdf39a5",
   "metadata": {},
   "outputs": [
    {
     "name": "stdout",
     "output_type": "stream",
     "text": [
      "Spot finished the course.\n",
      "A new record time, Spot finished in: 0.0001609325408935547 seconds!\n",
      "\n"
     ]
    }
   ],
   "source": [
    "spot.race_course()"
   ]
  },
  {
   "cell_type": "code",
   "execution_count": null,
   "id": "2ed849c8-8b17-44c4-af95-5d661c1d1aa7",
   "metadata": {},
   "outputs": [],
   "source": []
  }
 ],
 "metadata": {
  "kernelspec": {
   "display_name": "Python 3 (ipykernel)",
   "language": "python",
   "name": "python3"
  },
  "language_info": {
   "codemirror_mode": {
    "name": "ipython",
    "version": 3
   },
   "file_extension": ".py",
   "mimetype": "text/x-python",
   "name": "python",
   "nbconvert_exporter": "python",
   "pygments_lexer": "ipython3",
   "version": "3.10.12"
  }
 },
 "nbformat": 4,
 "nbformat_minor": 5
}
