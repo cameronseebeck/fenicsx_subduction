{
 "cells": [
  {
   "cell_type": "markdown",
   "id": "joined-journalist",
   "metadata": {},
   "source": [
    "# FEniCS-X Subduction\n",
    "Author: Kidus Teshome, Cian Wilson, Nathan Sime\n",
    "\n",
    "Comments and corrections to this webpage should be submitted to the issue tracker by going to the relevant page in the tutorial, then click the ![git](git.png)-symbol in the top right corner and \"open issue\".\n",
    "\n",
    "**Interactive tutorials**\n",
    "\n",
    "As this book has been published as a Jupyter Book, we provide interactive notebooks that can be run in the browser. To start such a notebook click the ![Binder symbol](binder.png)-symbol in the top right corner of the relevant tutorial."
   ]
  },
  {
   "cell_type": "code",
   "execution_count": null,
   "id": "gorgeous-declaration",
   "metadata": {},
   "outputs": [],
   "source": [
    "import dolfinx\n",
    "print(f\"DOLFINx version: {dolfinx.__version__} based on GIT commit: {dolfinx.git_commit_hash} of https://github.com/FEniCS/dolfinx/\")"
   ]
  },
  {
   "cell_type": "markdown",
   "id": "dedicated-order",
   "metadata": {},
   "source": [
    "**References**\n",
    "```{bibliography}\n",
    ":filter: docname in docnames\n",
    "```"
   ]
  },
  {
   "cell_type": "code",
   "execution_count": null,
   "id": "ceramic-convertible",
   "metadata": {},
   "outputs": [],
   "source": []
  }
 ],
 "metadata": {
  "kernelspec": {
   "display_name": "Python 3 (ipykernel)",
   "language": "python",
   "name": "python3"
  },
  "language_info": {
   "codemirror_mode": {
    "name": "ipython",
    "version": 3
   },
   "file_extension": ".py",
   "mimetype": "text/x-python",
   "name": "python",
   "nbconvert_exporter": "python",
   "pygments_lexer": "ipython3",
   "version": "3.10.11"
  }
 },
 "nbformat": 4,
 "nbformat_minor": 5
}
