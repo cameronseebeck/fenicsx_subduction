{
 "cells": [
  {
   "cell_type": "markdown",
   "id": "3d209deb-bd7c-4d83-960e-2921fb00229e",
   "metadata": {},
   "source": [
    "# Poisson Example 1D"
   ]
  },
  {
   "cell_type": "markdown",
   "id": "21e58730-8cfb-4904-9762-1fa4e188e64b",
   "metadata": {},
   "source": [
    "## Description"
   ]
  },
  {
   "cell_type": "markdown",
   "id": "fa95a418-4405-47d3-a648-8ec050cf3e39",
   "metadata": {},
   "source": [
    "As an introductory and simplified example we will solve the Poisson equation on a 1D domain of unit length, $\\Omega = [0,1]$, by seeking the approximate solution of\n",
    "\\begin{align}\n",
    "-\\frac{d^2 T}{dx^2} &= f  % && \\text{in }\\Omega\n",
    "\\end{align}\n",
    "where we choose for this example $f=\\frac{1}{4}\\pi^2 \\sin\\left(\\frac{\\pi x}{2} \\right)$."
   ]
  },
  {
   "cell_type": "markdown",
   "id": "42cdf0a9-8e3e-4e63-a207-03acb710c9c8",
   "metadata": {},
   "source": [
    "At the boundaries, $x$=0 and $x$=1, we apply as boundary conditions \\begin{align}\n",
    "T &= 0 && \\text{at } x=0  \\\\\n",
    "\\frac{dT}{dx} &= 0 && \\text{at } x=1 \n",
    "\\end{align}\n",
    "The first boundary condition is an example of an essential or Dirichlet boundary condition where we specify the \n",
    "value of the solution. The second boundary condition is an example of a natural or Neumann boundary condition that can be interpreted to mean that the solution is symmetrical around $x$=1."
   ]
  },
  {
   "cell_type": "markdown",
   "id": "57048de9-47ca-4484-aa41-3a38d7e37758",
   "metadata": {},
   "source": [
    "The analytical solution to the Poisson equation in 1D with the given boundary conditions and forcing function is simply\n",
    "\\begin{equation}\n",
    "  T = \\sin\\left(\\frac{\\pi x}{2}\\right)\n",
    "\\end{equation}\n",
    "but we will still solve this numerically as a verification test of our implementation."
   ]
  },
  {
   "cell_type": "markdown",
   "id": "ebeea805-9a55-4f52-b207-b7f0804180f3",
   "metadata": {},
   "source": [
    "Finite element methods are formulated by writing out the weak form of the equation.  In the case of 1D Poisson, we multiply the equation by an arbitrary \"test\" function, $T_t$, and integrate over the domain:\n",
    "\\begin{equation}\n",
    "-\\int_0^1 T_t \\frac{d^2 T}{dx^2} dx = \\int_0^1 f dx\n",
    "\\end{equation}\n",
    "To lower the continuity requirements on the discrete form of $T$ we can integrate the first term by parts giving us the **weak form** of the equation\n",
    "\\begin{equation}\n",
    "\\int_0^1 \\frac{d T_t}{dx} \\frac{d T}{dx} dx - \\left[T_t \\frac{dT}{dx} \\right]_0^1  = \\int_0^1 f dx\n",
    "\\end{equation}"
   ]
  },
  {
   "attachments": {},
   "cell_type": "markdown",
   "id": "ed6a80ef-b5d3-4b64-8072-dec734f76b4f",
   "metadata": {},
   "source": [
    "To discretize the equation, the FEM approximates $T$ by $\\tilde{T}$, the solution's representation in a **function space** on the mesh where\n",
    "\\begin{equation}\n",
    "\\tilde{T}(\\vec{x}, t) = \\sum_j \\phi_j(\\vec{x}) T_j(t) \n",
    "\\end{equation}\n",
    "Here, $T_j$ are coefficients that as indicated can be time-dependent if the problem is time-dependent (not the case in this example) but do not depend on space. The shape functions $\\phi_j$ are a function of space but generally independent of time. The index $j$ indicates the number of the shape function on the mesh and is associated with the number of the nodal point or element number it is associated with.\n",
    "In this tutorial, we will principally discuss so-called  Lagrange shape functions which define $\\phi_j$ as a polynomial over an element with a value of 1 at a single nodal point and a value of 0 at all other points associated with the degrees of freedom such that $\\sum_j\\phi_j=1$.  The shape functions can be of arbitrary order and can have various conditions on their continuity across or in between elements. We will focus principally on linear Lagrange shape functions (denoted by P1) and quadratic Lagrange shape functions (denoted by P2) that are continuous between mesh elements.\n",
    "![Lagrange shape functions in 1D](images/shapefunctions1d.png)\n",
    "\n",
    "Our choice of Lagrange shape functions means that $T_j$ are the actual values of the solution.  With other forms of the shape function (see, e.g., [DefElement](https://defelement.com/))\n",
    "$T_j$ are instead interpolation weights that are used to construct the solution values. \n",
    "The split of temporal and spatial dependence above is typical in geodynamic applications but not required.  "
   ]
  },
  {
   "attachments": {},
   "cell_type": "markdown",
   "id": "db10a5a0-3f17-43c8-9c43-e9b6ca395fea",
   "metadata": {},
   "source": [
    "The test functions $T_t$ can be independent of the functions \n",
    "that span the function space of the trial function,\n",
    "but in the widely used Galerkin approach the test functions \n",
    "are restricted to be in the same function space such that\n",
    "\\begin{equation}\n",
    "\\tilde{T}_t(\\vec{x}, t) = \\sum_i\\phi_i(\\vec{x})  T_{ti}(t) \n",
    "\\end{equation}\n",
    "Since the method is valid for all $\\tilde{T}_t$ we can dispense with the test function values at the DOFs, $T_{ti}$ and, through substitution of $T = \\tilde{T}$ and $T_t = \\tilde{T}_t$ write the **discrete weak form** as\n",
    "\\begin{equation}\n",
    "\\sum_j\\int_0^1 \\frac{d \\phi_i}{dx} \\frac{d \\phi_j}{dx} dx T_j - \\sum_j\\left[\\phi_i \\frac{d\\phi_j}{dx} \\right]_0^1 T_j = \\int_0^1 f dx, \\quad\\quad i = 1,\\ldots, n\n",
    "\\end{equation}\n",
    "The second term can be dropped because we require $\\frac{d\\tilde{T}}{dx} = 0$ at $x=1$ and the solution at $x=0$ ($i=0$) is known ($T_0=0$)\n",
    "\\begin{equation}\n",
    "\\sum_j\\int_0^1 \\frac{d \\phi_i}{dx} \\frac{d \\phi_j}{dx} dx T_j = \\int_0^1 f dx, \\quad\\quad i = 1,\\ldots, n\n",
    "\\end{equation}"
   ]
  },
  {
   "cell_type": "markdown",
   "id": "970f045e-8cc3-4aea-8964-3ff954a5aa27",
   "metadata": {},
   "source": [
    "Given a domain with $n$ DOFs such that $i,j=1, \\ldots, n$, the discrete weak form can be assembled into a matrix-vector system of the form\n",
    "\\begin{equation}\n",
    "{\\bf S} {\\bf u} = {\\bf f}\n",
    "\\end{equation}\n",
    "where $\\bf{S}$ is a $n \\times n$ matrix, $\\bf{f}$ is the right-hand side vector of length $n$ and $\\bf{u}$ is the solution vector of values at the DOFs\n",
    "\\begin{align}\n",
    "{\\bf S} &= S_{ij} = \\int_0^1 \\frac{d\\phi_i}{dx} \\frac{d\\phi_j}{dx} ~dx  \\\\\n",
    "{\\bf f} &= f_i = \\int_0^1 \\phi_i  f ~dx \\\\\n",
    "{\\bf u} &= {\\bf T} = T_j\n",
    "\\end{align}\n",
    "where ${\\bf T}$ has components $T_j$ that define the continuous approximate solution \n",
    "\\begin{equation}\n",
    "\\tilde{T}(x) = \\sum_{j=1}^n  \\phi_j(x) T_j\n",
    "\\end{equation}\n",
    "and $T_0 = 0$."
   ]
  },
  {
   "cell_type": "markdown",
   "id": "21e0ab44-b65b-4f29-bfa5-022ca3ee9064",
   "metadata": {},
   "source": [
    "## Implementation"
   ]
  },
  {
   "cell_type": "markdown",
   "id": "08539895-1b3b-4e81-b660-dcdc3371e89b",
   "metadata": {},
   "source": [
    "Traditionally, finite element methods have been implemented using Fortran or C/C++\n",
    "based codes that, at the core, build the matrix-vector system by numerical integration, after which this system is solved by linear algebraic solvers. Most FEM codes provide options for time-dependence and the ability to solve nonlinear and nonlinearly coupled systems of PDEs. \n",
    "Examples of such codes that have been used in geodynamical applications including subduction zone modeling are\n",
    "[ConMan](https://doi.org/10.1016/0031-9201(90)90225-M), [Sopale](https://doi.org/10.1111/j.1365-246X.1995.tb05908.x),\n",
    "[Underworld](https://doi.org/10.1016/j.pepi.2007.06.009),\n",
    "[CitcomS](https://doi.org/10.1029/2008GC002048), \n",
    "[MILAMIN](https://doi.org/10.1029/2007GC001719),\n",
    "[ASPECT](https://doi.org/10.1111/j.1365-246X.2012.05609.x), \n",
    "[Sepran](https://doi.org/10.1007/s12583-015-0508-0), \n",
    "[Fluidity](https://doi.org/10.1029/2011GC003551),\n",
    "and [Rhea](https://doi.org/10.1093/gji/ggs070).\n",
    "A number of these are distributed as open-source\n",
    "software and many among those are currently maintained through the \n",
    "[Computational Infrastructure for Geodynamics](geodynamics.org). \n",
    "These implementations can be shown to be accurate using intercomparisons\n",
    "and benchmarks and make use of advances in parallel computing and efficient linear algebra solver techniques. Yet, modifications to the existing code requires deep insight into the structure of the Fortran/C/C++ code which is not trivial for experienced, let alone beginning, users.\n",
    "\n",
    "In recent years an alternative approach for FEM has become available which elevates the user interface to simply specifying the FEM problem and solution method with the high-level approach. \n",
    "Python code is used to automatically build a finite element model that can be executed in a variety of environments ranging from [Jupyter notebooks](jupyter.org) and desktop computers to massively parallel high performance computers.\n",
    "Two prominent examples of this approach are [Firedrake](www.firedrakeproject.org) and [FEniCS](www.fenicsproject.org). Examples of the use of these two approaches in geodynamical\n",
    "applications are in [Davies et al., 2022](https://doi.org/10.5194/gmd-15-5127-2022) and [Vynnytska et al., 2013](https://doi.org/10.1016/j.cageo.2012.05.012).\n",
    "\n",
    "This and following examples were presented by [Wilson & van Keken, 2023](http://dx.doi.org/10.1186/s40645-023-00588-6) using FEniCS v2019.1.0 and [TerraFERMA](terraferma.github.io), a GUI-based model building framework that also uses FEniCS v2019.1.0.  These simulations are publicly available in a [zenodo](doi.org/10.5281/zenodo.7843967) archive and can be run using a [docker](https://github.com/users/cianwilson/packages/container/package/vankeken_wilson_peps_2023) image.\n",
    "\n",
    "Here we will focus on reproducing the results of [Wilson & van Keken, 2023](http://dx.doi.org/10.1186/s40645-023-00588-6) using the latest version of FEniCS, FEniCSx.\n",
    "[FEniCS](https://doi.org/10.11588/ans.2015.100.20553) is a suite of open-source numerical libraries for the description of finite element problems.  Most importantly it provides a high-level, human-readable language \n",
    "for the description of equations in python Unified Form Language ([UFL](https://doi.org/10.1145/2566630))\n",
    "and the FEniCS Form Compiler ([FFC](https://doi.org/10.1145/1163641.1163644))\n",
    "to write fast code to assemble the resulting discrete matrix-vector system.\n"
   ]
  },
  {
   "cell_type": "markdown",
   "id": "157b8be2-f0f9-47f4-b5c3-3368af97ad44",
   "metadata": {},
   "source": [
    "### Preamble"
   ]
  },
  {
   "cell_type": "markdown",
   "id": "6a517609-e0d1-4a53-82d6-dcbd9ef2899d",
   "metadata": {},
   "source": [
    "We start by loading all the modules we will require."
   ]
  },
  {
   "cell_type": "code",
   "execution_count": null,
   "id": "96600b19-6685-49b9-9f6a-aec666b6d0fc",
   "metadata": {},
   "outputs": [],
   "source": [
    "from mpi4py import MPI\n",
    "import dolfinx as df\n",
    "import dolfinx.fem.petsc\n",
    "import numpy as np\n",
    "import ufl\n",
    "import matplotlib.pyplot as pl\n",
    "import pathlib\n",
    "import sys, os\n",
    "sys.path.append(os.path.join(os.path.pardir, 'python'))\n",
    "import utils"
   ]
  },
  {
   "cell_type": "markdown",
   "id": "332212af-87d8-48d3-bfdd-73f1d1cc5e3e",
   "metadata": {},
   "source": [
    "### Solution"
   ]
  },
  {
   "cell_type": "markdown",
   "id": "fb8015cc-1175-401c-9f9c-0f7354a88561",
   "metadata": {},
   "source": [
    "We then declare a python function `solve_poisson_1d` that contains a complete description of the discrete Poisson equation problem.\n",
    "\n",
    "This function follows much the same flow as described above:\n",
    "1. we describe the domain $\\Omega$ and discretize it into `ne` elements or cells to make a `mesh`\n",
    "2. we declare the **function space**, `V`, to use Lagrange polynomials of degree `p`\n",
    "3. using this function space we declare trial, `T_a`, and test, `T_t`, functions\n",
    "4. we define the Dirichlet boundary condition, `bc` at $x=0$, setting the desired value there to be 0\n",
    "5. we define the right hand side forcing function $f$, `rhsf`\n",
    "6. we describe the **discrete weak forms**, `S` and `f`, that will be used to assemble the matrix $\\mathbf{S}$ and vector $f$\n",
    "7. we solve the matrix problem using a linear algebra back-end and return the solution\n",
    "\n",
    "For a more detailed description of solving the Poisson equation using FEniCSx, see [the FEniCSx tutorial](https://jsdokken.com/dolfinx-tutorial/chapter1/fundamentals.html)."
   ]
  },
  {
   "cell_type": "code",
   "execution_count": null,
   "id": "c74d79ab-1ec0-4c39-b72f-7e3f780c775a",
   "metadata": {},
   "outputs": [],
   "source": [
    "def solve_poisson_1d(ne, p=1):\n",
    "    \"\"\"\n",
    "    A python function to solve a one-dimensional Poisson problem\n",
    "    on a unit interval domain.\n",
    "    Parameters:\n",
    "      * ne - number of elements\n",
    "      * p  - polynomial order of the solution function space\n",
    "    \"\"\"\n",
    "    # Describe the domain (a one-dimensional unit interval)\n",
    "    # and also the tessellation of that domain into ne \n",
    "    # equally spaced elements\n",
    "    mesh = df.mesh.create_unit_interval(MPI.COMM_WORLD, ne)\n",
    "\n",
    "    # Define the solution function space using Lagrange polynomials\n",
    "    # of order p\n",
    "    V = df.fem.functionspace(mesh, (\"Lagrange\", p))\n",
    "\n",
    "    # Define the trial and test functions on the same function space (V)\n",
    "    T_a = ufl.TrialFunction(V)\n",
    "    T_t = ufl.TestFunction(V)\n",
    "\n",
    "    # Define the location of the boundary, x=0\n",
    "    def boundary(x):\n",
    "        return np.isclose(x[0], 0)\n",
    "    # Specify the value and define a boundary condition (bc)\n",
    "    boundary_dofs = df.fem.locate_dofs_geometrical(V, boundary)\n",
    "    gD = df.fem.Constant(mesh, df.default_scalar_type(0.0))\n",
    "    bc = df.fem.dirichletbc(gD, boundary_dofs, V)\n",
    "\n",
    "    # Define the right hand side function, rhsf\n",
    "    x = ufl.SpatialCoordinate(mesh)\n",
    "    rhsf = (ufl.pi**2)*ufl.sin(ufl.pi*x[0]/2)/4\n",
    "\n",
    "    # Define the integral to be assembled into the stiffness matrix\n",
    "    S = ufl.inner(ufl.grad(T_t), ufl.grad(T_a))*ufl.dx\n",
    "    # Define the integral to be assembled into the forcing vector\n",
    "    f = T_t*rhsf*ufl.dx\n",
    "\n",
    "    # Compute the solution (given the boundary condition, bc)\n",
    "    problem = df.fem.petsc.LinearProblem(S, f, bcs=[bc], \\\n",
    "                                         petsc_options={\"ksp_type\": \"preonly\", \\\n",
    "                                                        \"pc_type\": \"lu\"})\n",
    "    T_i = problem.solve()\n",
    "\n",
    "    # Return the solution\n",
    "    return T_i"
   ]
  },
  {
   "cell_type": "markdown",
   "id": "1222c88a-3301-49c1-8e4a-642422ede9ed",
   "metadata": {},
   "source": [
    "We can then use `solve_poisson_1d` to solve on, for example, 4 elements with (the default) P1 elements."
   ]
  },
  {
   "cell_type": "code",
   "execution_count": null,
   "id": "4d76bf54-eff2-4c3b-a128-6823ac6ba0a4",
   "metadata": {},
   "outputs": [],
   "source": [
    "ne = 4\n",
    "T_P1 = solve_poisson_1d(ne)"
   ]
  },
  {
   "cell_type": "markdown",
   "id": "6d2b4ac0-775b-4dd4-b12c-097bd0f367a7",
   "metadata": {},
   "source": [
    "Comparing the numerical, $\\tilde{T}$, and analytical, $T$, solutions we can see that even at this small number of elements we do a good job at reproducing the correct answer."
   ]
  },
  {
   "cell_type": "code",
   "execution_count": null,
   "id": "dfdcb93c-37b5-4328-819f-12c675258cc6",
   "metadata": {},
   "outputs": [],
   "source": [
    "x = np.linspace(0, 1, 201)\n",
    "xyz = np.stack((x, np.zeros_like(x), np.zeros_like(x)), axis=1)\n",
    "T_P1_x = T_P1.eval(xyz, utils.get_first_cells(xyz, T_P1.function_space.mesh))[:,0]\n",
    "pl.plot(x, T_P1_x, label='$\\\\tilde{T}$ (P1)')\n",
    "pl.plot(x[::50], T_P1_x[::50], 'o')\n",
    "pl.plot(x, np.sin(np.pi*x/2), '--g', label='$T$')\n",
    "pl.gca().legend()\n",
    "pl.gca().set_xlabel('$x$')\n",
    "pl.gca().set_ylabel('$T$')\n",
    "_ = pl.gca().set_title('Numerical (P1) and exact solutions')"
   ]
  },
  {
   "cell_type": "markdown",
   "id": "052b6800-26cd-413c-bf6c-c3d0fe4e3aa8",
   "metadata": {},
   "source": [
    "We can also try with a higher order element and see how it improves the solution."
   ]
  },
  {
   "cell_type": "code",
   "execution_count": null,
   "id": "89ad4f11-9cff-4598-8f85-fa41acbd9ccc",
   "metadata": {},
   "outputs": [],
   "source": [
    "T_P2 = solve_poisson_1d(4, p=2)"
   ]
  },
  {
   "cell_type": "markdown",
   "id": "8ab175da-07b5-47da-ac27-b69597fb7197",
   "metadata": {},
   "source": [
    "The higher polynomial degree qualitatively appears to have a dramatic improvement in the solution accuracy."
   ]
  },
  {
   "cell_type": "code",
   "execution_count": null,
   "id": "a0efdf6e-6e68-453f-896d-df498cd57ebc",
   "metadata": {},
   "outputs": [],
   "source": [
    "x = np.linspace(0, 1, 201)\n",
    "xyz = np.stack((x, np.zeros_like(x), np.zeros_like(x)), axis=1)\n",
    "T_P2_x = T_P2.eval(xyz, utils.get_first_cells(xyz, T_P2.function_space.mesh))[:,0]\n",
    "pl.plot(x, T_P2_x, label='$\\\\tilde{T}$ (P2)')\n",
    "pl.plot(x[::25], T_P2_x[::25], 'o')\n",
    "pl.plot(x, np.sin(np.pi*x/2), '--g', label='$T$')\n",
    "pl.gca().legend()\n",
    "pl.gca().set_xlabel('$x$')\n",
    "pl.gca().set_ylabel('$T$')\n",
    "_ = pl.gca().set_title('Numerical (P2) and exact solutions')"
   ]
  },
  {
   "cell_type": "markdown",
   "id": "b2c48e3d-4fb2-4b98-92dc-98969956b254",
   "metadata": {},
   "source": [
    "### Testing"
   ]
  },
  {
   "cell_type": "markdown",
   "id": "f0fb5734-7cce-4a22-b4f3-acd8503c4306",
   "metadata": {},
   "source": [
    "We can quantify the error in cases where the analytical solution is known by taking the L2 norm of the difference between the numerical and exact solutions."
   ]
  },
  {
   "cell_type": "code",
   "execution_count": null,
   "id": "1398b33d-712f-4cfc-b08a-20b241a14c1d",
   "metadata": {},
   "outputs": [],
   "source": [
    "def evaluate_error(T_i):\n",
    "    \"\"\"\n",
    "    A python function to evaluate the l2 norm of the error in \n",
    "    the one dimensional Poisson problem given a known analytical\n",
    "    solution.\n",
    "    \"\"\"\n",
    "    # Define the exact solution\n",
    "    x  = ufl.SpatialCoordinate(T_i.function_space.mesh)\n",
    "    Te = ufl.sin(ufl.pi*x[0]/2)\n",
    "    \n",
    "    # Define the error between the exact solution and the given\n",
    "    # approximate solution\n",
    "    l2err = df.fem.assemble_scalar(df.fem.form((T_i - Te)*(T_i - Te)*ufl.dx))**0.5\n",
    "    \n",
    "    # Return the l2 norm of the error\n",
    "    return l2err"
   ]
  },
  {
   "cell_type": "markdown",
   "id": "b0e5ebe5-7149-4927-a17b-62e1b16367f9",
   "metadata": {},
   "source": [
    "Repeating the numerical experiments with increasing `ne` allows us to test the **convergence** of our approximate finite element solution to the known analytical solution.  A key feature of any discretization technique is that with an increasing number of degrees of freedom (DOFs) these solutions should converge, i.e. the error in our approximation should decrease.  As an error metric we will use the $L^2$ norm of the difference between the\n",
    "approximate, $\\tilde{T}$, and analytical, $T$, solutions\n",
    "\\begin{equation}\n",
    "e_{L^2} = \\sqrt{\\int_\\Omega \\left(\\tilde{T} - T\\right)^2 dx}\n",
    "\\end{equation}\n",
    "The rate at which this decreases is known as the order of convergence. Numerical analysis predicts a certain order depending on the type of the polynomials used as finite element shape functions and other constraints related to the well-posedness of the problem. For piecewise linear shape functions we expect second-order convergence, that is that the error decreases as $h^{-2}$ where $h$ is the nodal point spacing. With piecewise quadratic elements we expect to see third-order convergence."
   ]
  },
  {
   "cell_type": "code",
   "execution_count": null,
   "id": "a8b0fad9-b206-4754-89ae-1607ef65419b",
   "metadata": {},
   "outputs": [],
   "source": [
    "# Open a figure for plotting\n",
    "fig = pl.figure()\n",
    "\n",
    "# Make an output folder\n",
    "output_folder = pathlib.Path(\"output\")\n",
    "output_folder.mkdir(exist_ok=True, parents=True)\n",
    "\n",
    "# List of polynomial orders to try\n",
    "ps = [1, 2]\n",
    "# List of resolutions to try\n",
    "nelements = [10, 20, 40, 80, 160, 320]\n",
    "# Keep track of whether we get the expected order of convergence\n",
    "test_passes = True\n",
    "# Loop over the polynomial orders\n",
    "for p in ps:\n",
    "    # Accumulate the errors\n",
    "    errors_l2_a = []\n",
    "    # Loop over the resolutions\n",
    "    for ne in nelements:\n",
    "        # Solve the 1D Poisson problem\n",
    "        T_i = solve_poisson_1d(ne, p)\n",
    "        # Evaluate the error in the approximate solution\n",
    "        l2error = evaluate_error(T_i)\n",
    "        # Print to screen and save\n",
    "        print('ne = ', ne, ', l2error = ', l2error)\n",
    "        errors_l2_a.append(l2error)\n",
    "\n",
    "    # Work out the order of convergence at this p\n",
    "    hs = 1./np.array(nelements)/p\n",
    "    \n",
    "    # Write the errors to disk\n",
    "    with open(output_folder / '1d_poisson_convergence_p{}.csv'.format(p), 'w') as f:\n",
    "        np.savetxt(f, np.c_[nelements, hs, errors_l2_a], delimiter=',', \n",
    "                   header='nelements, hs, l2errs')\n",
    "    \n",
    "    # Fit a line to the convergence data\n",
    "    fit = np.polyfit(np.log(hs), np.log(errors_l2_a),1)\n",
    "    print(\"***********  order of accuracy p={}, order={:.2f}\".format(p,fit[0]))\n",
    "    \n",
    "    # log-log plot of the error  \n",
    "    pl.loglog(hs,errors_l2_a,'o-',label='p={}, order={:.2f}'.format(p,fit[0]))\n",
    "    \n",
    "    # Test if the order of convergence is as expected\n",
    "    test_passes = test_passes and fit[0] > p+0.9\n",
    "\n",
    "# Tidy up the plot\n",
    "pl.xlabel('h')\n",
    "pl.ylabel('||e||_2')\n",
    "pl.grid()\n",
    "pl.title('Convergence')\n",
    "pl.legend()\n",
    "\n",
    "pl.savefig(output_folder / '1d_poisson_convergence.pdf')\n",
    "\n",
    "print(\"***********  convergence figure in output/poisson_convergence.pdf\")\n",
    "# Check if we passed the test\n",
    "assert(test_passes)"
   ]
  },
  {
   "cell_type": "code",
   "execution_count": null,
   "id": "e07d97da-6a2c-4bac-ba70-fd71bcf600d9",
   "metadata": {},
   "outputs": [],
   "source": []
  },
  {
   "cell_type": "code",
   "execution_count": null,
   "id": "ec679678-ef0f-4a2e-9a4b-42c619476793",
   "metadata": {},
   "outputs": [],
   "source": []
  }
 ],
 "metadata": {
  "kernelspec": {
   "display_name": "Python 3 (ipykernel)",
   "language": "python",
   "name": "python3"
  },
  "language_info": {
   "codemirror_mode": {
    "name": "ipython",
    "version": 3
   },
   "file_extension": ".py",
   "mimetype": "text/x-python",
   "name": "python",
   "nbconvert_exporter": "python",
   "pygments_lexer": "ipython3",
   "version": "3.10.12"
  }
 },
 "nbformat": 4,
 "nbformat_minor": 5
}
