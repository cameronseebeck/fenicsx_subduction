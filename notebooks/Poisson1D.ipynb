{
 "cells": [
  {
   "cell_type": "code",
   "execution_count": null,
   "id": "96600b19-6685-49b9-9f6a-aec666b6d0fc",
   "metadata": {},
   "outputs": [],
   "source": [
    "from mpi4py import MPI\n",
    "import dolfinx as df\n",
    "import dolfinx.fem.petsc\n",
    "import numpy as np\n",
    "import ufl\n",
    "import matplotlib.pyplot as pl"
   ]
  },
  {
   "cell_type": "code",
   "execution_count": null,
   "id": "c74d79ab-1ec0-4c39-b72f-7e3f780c775a",
   "metadata": {},
   "outputs": [],
   "source": [
    "def solve_poisson_1d(ne, p=1):\n",
    "    \"\"\"\n",
    "    A python function to solve a one-dimensional Poisson problem\n",
    "    on a unit interval domain.\n",
    "    Parameters:\n",
    "      * ne - number of elements\n",
    "      * p  - polynomial order of the solution function space\n",
    "    \"\"\"\n",
    "    mesh = df.mesh.create_unit_interval(MPI.COMM_WORLD, ne)\n",
    "\n",
    "    V = df.fem.functionspace(mesh, (\"Lagrange\", p))\n",
    "\n",
    "    T_a = ufl.TrialFunction(V)\n",
    "    T_t = ufl.TestFunction(V)\n",
    "\n",
    "    def boundary(x):\n",
    "        return np.isclose(x[0], 0)\n",
    "    boundary_dofs = df.fem.locate_dofs_geometrical(V, boundary)\n",
    "    gD = df.fem.Constant(mesh, df.default_scalar_type(0.0))\n",
    "    bc = df.fem.dirichletbc(gD, boundary_dofs, V)\n",
    "\n",
    "    x = ufl.SpatialCoordinate(mesh)\n",
    "    rhsf = (ufl.pi**2)*ufl.sin(ufl.pi*x[0]/2)/4\n",
    "\n",
    "    S = ufl.inner(ufl.grad(T_t), ufl.grad(T_a))*ufl.dx\n",
    "    f = T_t*rhsf*ufl.dx\n",
    "\n",
    "    problem = df.fem.petsc.LinearProblem(S, f, bcs=[bc], \\\n",
    "                                         petsc_options={\"ksp_type\": \"preonly\", \\\n",
    "                                                        \"pc_type\": \"lu\"})\n",
    "    T_i = problem.solve()\n",
    "\n",
    "    return T_i"
   ]
  },
  {
   "cell_type": "code",
   "execution_count": null,
   "id": "4d76bf54-eff2-4c3b-a128-6823ac6ba0a4",
   "metadata": {},
   "outputs": [],
   "source": [
    "T_P1 = solve_poisson_1d(4)"
   ]
  },
  {
   "cell_type": "code",
   "execution_count": null,
   "id": "dfdcb93c-37b5-4328-819f-12c675258cc6",
   "metadata": {},
   "outputs": [],
   "source": [
    "T_P1.x.array"
   ]
  },
  {
   "cell_type": "code",
   "execution_count": null,
   "id": "d32ff16c-79e8-4273-80c3-fe24bfda332c",
   "metadata": {},
   "outputs": [],
   "source": []
  },
  {
   "cell_type": "code",
   "execution_count": null,
   "id": "89ad4f11-9cff-4598-8f85-fa41acbd9ccc",
   "metadata": {},
   "outputs": [],
   "source": [
    "T_P2 = solve_poisson_1d(4, p=2)"
   ]
  },
  {
   "cell_type": "code",
   "execution_count": null,
   "id": "a0efdf6e-6e68-453f-896d-df498cd57ebc",
   "metadata": {},
   "outputs": [],
   "source": [
    "T_P2.x.array"
   ]
  },
  {
   "cell_type": "code",
   "execution_count": null,
   "id": "1398b33d-712f-4cfc-b08a-20b241a14c1d",
   "metadata": {},
   "outputs": [],
   "source": [
    "def evaluate_error(T_i):\n",
    "    \"\"\"\n",
    "    A python function to evaluate the l2 norm of the error in \n",
    "    the one dimensional Poisson problem given a known analytical\n",
    "    solution.\n",
    "    \"\"\"\n",
    "    # Define the exact solution\n",
    "    x  = ufl.SpatialCoordinate(T_i.function_space.mesh)\n",
    "    Te = ufl.sin(ufl.pi*x[0]/2)\n",
    "    \n",
    "    # Define the error between the exact solution and the given\n",
    "    # approximate solution\n",
    "    l2err = df.fem.assemble_scalar(df.fem.form((T_i - Te)*(T_i - Te)*ufl.dx))**0.5\n",
    "    \n",
    "    # Return the l2 norm of the error\n",
    "    return l2err"
   ]
  },
  {
   "cell_type": "code",
   "execution_count": null,
   "id": "a8b0fad9-b206-4754-89ae-1607ef65419b",
   "metadata": {},
   "outputs": [],
   "source": [
    "# Open a figure for plotting\n",
    "fig = pl.figure()\n",
    "\n",
    "# List of polynomial orders to try\n",
    "ps = [1, 2]\n",
    "# List of resolutions to try\n",
    "nelements = [10, 20, 40, 80, 160, 320]\n",
    "# Keep track of whether we get the expected order of convergence\n",
    "test_passes = True\n",
    "# Loop over the polynomial orders\n",
    "for p in ps:\n",
    "    # Accumulate the errors\n",
    "    errors_l2_a = []\n",
    "    # Loop over the resolutions\n",
    "    for ne in nelements:\n",
    "        # Solve the 1D Poisson problem\n",
    "        T_i = solve_poisson_1d(ne, p)\n",
    "        # Evaluate the error in the approximate solution\n",
    "        l2error = evaluate_error(T_i)\n",
    "        # Print to screen and save\n",
    "        print('ne = ', ne, ', l2error = ', l2error)\n",
    "        errors_l2_a.append(l2error)\n",
    "\n",
    "    # Work out the order of convergence at this p\n",
    "    hs = 1./np.array(nelements)/p\n",
    "    \n",
    "    # Write the errors to disk\n",
    "    with open('1d_poisson_convergence_p{}.csv'.format(p), 'w') as f:\n",
    "        np.savetxt(f, np.c_[nelements, hs, errors_l2_a], delimiter=',', \n",
    "                   header='nelements, hs, l2errs')\n",
    "    \n",
    "    # Fit a line to the convergence data\n",
    "    fit = np.polyfit(np.log(hs), np.log(errors_l2_a),1)\n",
    "    print(\"***********  order of accuracy p={}, order={:.2f}\".format(p,fit[0]))\n",
    "    \n",
    "    # log-log plot of the error  \n",
    "    pl.loglog(hs,errors_l2_a,'o-',label='p={}, order={:.2f}'.format(p,fit[0]))\n",
    "    \n",
    "    # Test if the order of convergence is as expected\n",
    "    test_passes = test_passes and fit[0] > p+0.9\n",
    "\n",
    "# Tidy up the plot\n",
    "pl.xlabel('h')\n",
    "pl.ylabel('||e||_2')\n",
    "pl.grid()\n",
    "pl.title('Convergence')\n",
    "pl.legend()\n",
    "pl.savefig('1d_poisson_convergence.pdf')\n",
    "\n",
    "print(\"***********  convergence figure in poisson_convergence.pdf\")\n",
    "# Check if we passed the test\n",
    "assert(test_passes)\n"
   ]
  },
  {
   "cell_type": "code",
   "execution_count": null,
   "id": "e07d97da-6a2c-4bac-ba70-fd71bcf600d9",
   "metadata": {},
   "outputs": [],
   "source": []
  },
  {
   "cell_type": "code",
   "execution_count": null,
   "id": "ec679678-ef0f-4a2e-9a4b-42c619476793",
   "metadata": {},
   "outputs": [],
   "source": []
  }
 ],
 "metadata": {
  "kernelspec": {
   "display_name": "Python 3 (ipykernel)",
   "language": "python",
   "name": "python3"
  },
  "language_info": {
   "codemirror_mode": {
    "name": "ipython",
    "version": 3
   },
   "file_extension": ".py",
   "mimetype": "text/x-python",
   "name": "python",
   "nbconvert_exporter": "python",
   "pygments_lexer": "ipython3",
   "version": "3.10.12"
  }
 },
 "nbformat": 4,
 "nbformat_minor": 5
}
