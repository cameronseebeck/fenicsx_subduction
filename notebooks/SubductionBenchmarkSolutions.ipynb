{
 "cells": [
  {
   "cell_type": "markdown",
   "id": "edf2fb7b-ac53-4d67-8fad-4f94f62adb7d",
   "metadata": {},
   "source": [
    "# Subduction Benchmark Solutions"
   ]
  },
  {
   "cell_type": "markdown",
   "id": "6e34c38f-5d19-4741-a5f2-03db72ace774",
   "metadata": {},
   "source": [
    "## Load"
   ]
  },
  {
   "cell_type": "code",
   "execution_count": null,
   "id": "ab44bc2a-31ac-45b3-9d32-165412442cd1",
   "metadata": {},
   "outputs": [],
   "source": [
    "from SubductionBenchmark import *\n",
    "import pyvista as pv\n",
    "if __name__ == \"__main__\" and \"__file__\" in globals():\n",
    "    pv.OFF_SCREEN = True"
   ]
  },
  {
   "cell_type": "markdown",
   "id": "7c1bc2b0-2e6e-4588-868b-c0f85aa5adb5",
   "metadata": {},
   "source": [
    "## Higher Resolution"
   ]
  },
  {
   "cell_type": "markdown",
   "id": "be7a5d97-ae8f-48eb-97c6-78af570ceaeb",
   "metadata": {},
   "source": [
    "### Case 1"
   ]
  },
  {
   "cell_type": "code",
   "execution_count": null,
   "id": "c5d78973-cca1-48b7-97e3-4fc11c4f192c",
   "metadata": {},
   "outputs": [],
   "source": [
    "xs = [0.0, 140.0, 240.0, 400.0]\n",
    "ys = [0.0, -70.0, -120.0, -200.0]\n",
    "lc_depth = 40\n",
    "uc_depth = 15\n",
    "coast_distance = 0\n",
    "extra_width = 0\n",
    "sztype = 'continental'\n",
    "io_depth_1 = 139\n",
    "A      = 100.0      # age of subducting slab (Myr)\n",
    "qs     = 0.065      # surface heat flux (W/m^2)\n",
    "Vs     = 100.0      # slab speed (mm/yr)"
   ]
  },
  {
   "cell_type": "code",
   "execution_count": null,
   "id": "a403c32d-1e51-4041-85db-e448fdf1f67d",
   "metadata": {
    "scrolled": true
   },
   "outputs": [],
   "source": [
    "resscale2 = 2.0\n",
    "slab_resscale2 = create_slab(xs, ys, resscale2, lc_depth)\n",
    "geom_resscale2 = create_sz_geometry(slab_resscale2, resscale2, sztype, io_depth_1, extra_width, \n",
    "                           coast_distance, lc_depth, uc_depth)\n",
    "sz_case1_resscale2 = SubductionProblem(geom_resscale2, A=A, Vs=Vs, sztype=sztype, qs=qs)\n",
    "print(\"\\nSolving steady state flow with isoviscous rheology...\")\n",
    "sz_case1_resscale2.solve_steadystate_isoviscous()"
   ]
  },
  {
   "cell_type": "code",
   "execution_count": null,
   "id": "9ae8f156-5cdb-41fe-a371-98a001157944",
   "metadata": {},
   "outputs": [],
   "source": [
    "diag_resscale2 = sz_case1_resscale2.get_diagnostics()\n",
    "T_ndof_resscale2 = sz_case1_resscale2.V_T.dofmap.index_map.size_global * sz_case1_resscale2.V_T.dofmap.index_map_bs\n",
    "\n",
    "print('')\n",
    "print('{:<12} {:<12} {:<12} {:<12} {:<12} {:<12}'.format('resscale', 'T_ndof', 'T_{200,-100}', 'Tbar_s', 'Tbar_w', 'Vrmsw'))\n",
    "print('{:<12.4g} {:<12d} {:<12.4f} {:<12.4f} {:<12.4f} {:<12.4f}'.format(resscale2, T_ndof_resscale2, diag_resscale2[0], diag_resscale2[1], diag_resscale2[2], diag_resscale2[3]))"
   ]
  },
  {
   "cell_type": "markdown",
   "id": "7a222a93-cc89-43d3-8666-27095bebeff5",
   "metadata": {},
   "source": [
    "For comparison here are the values reported for case 1 using [TerraFERMA](https://terraferma.github.io) in [Wilson & van Keken, 2023](http://dx.doi.org/10.1186/s40645-023-00588-6):\n",
    "\n",
    "| `resscale` | $T_{\\text{ndof}} $ | $T_{(200,-100)}^*$ | $\\overline{T}_s^*$ | $ \\overline{T}_w^* $ |  $V_{\\text{rms},w}^*$ |\n",
    "| - | - | - | - | - | - |\n",
    "| 2.0 | 21403  | 517.17 | 451.83 | 926.62 | 34.64 |\n",
    "| 1.0 | 83935  | 516.95 | 451.71 | 926.33 | 34.64 |\n",
    "| 0.5 | 332307 | 516.86 | 451.63 | 926.15 | 34.64 |"
   ]
  },
  {
   "cell_type": "code",
   "execution_count": null,
   "id": "414788ff-fe42-4de4-a88b-4c6a902a505a",
   "metadata": {},
   "outputs": [],
   "source": [
    "plotter_case1_resscale2 = utils.plot_scalar(sz_case1_resscale2.T_i, scale=sz_case1_resscale2.T0, cmap='coolwarm')\n",
    "utils.plot_vector_glyphs(sz_case1_resscale2.vw_i, plotter=plotter_case1_resscale2, factor=0.05, color='k', scale=utils.mps_to_mmpyr(sz_case1_resscale2.v0))\n",
    "utils.plot_vector_glyphs(sz_case1_resscale2.vs_i, plotter=plotter_case1_resscale2, factor=0.05, color='k', scale=utils.mps_to_mmpyr(sz_case1_resscale2.v0))\n",
    "utils.show(plotter_case1_resscale2, filename=\"case_1_resscale2_solution.png\")"
   ]
  },
  {
   "cell_type": "markdown",
   "id": "9e25f250-9073-46c4-b74f-b2de7f8af42c",
   "metadata": {},
   "source": [
    "### Case 2"
   ]
  },
  {
   "cell_type": "code",
   "execution_count": null,
   "id": "4e7245c9-3f06-425a-8a6b-8dc487d7a654",
   "metadata": {
    "scrolled": true
   },
   "outputs": [],
   "source": [
    "io_depth_2 = 154.0\n",
    "geom_case2_resscale2 = create_sz_geometry(slab_resscale2, resscale2, sztype, io_depth_2, extra_width, \n",
    "                                          coast_distance, lc_depth, uc_depth)\n",
    "sz_case2_resscale2 = SubductionProblem(geom_case2_resscale2, A=A, Vs=Vs, sztype=sztype, qs=qs)\n",
    "print(\"\\nSolving steady state flow with dislocation creep rheology...\")\n",
    "sz_case2_resscale2.solve_steadystate_dislocationcreep()"
   ]
  },
  {
   "cell_type": "code",
   "execution_count": null,
   "id": "9b999ed9-2934-4c26-9c5a-d22240c7e580",
   "metadata": {},
   "outputs": [],
   "source": [
    "diag_case2_resscale2 = sz_case2_resscale2.get_diagnostics()\n",
    "T_ndof_case2_resscale2 = sz_case2_resscale2.V_T.dofmap.index_map.size_global * sz_case2_resscale2.V_T.dofmap.index_map_bs\n",
    "\n",
    "print('')\n",
    "print('{:<12} {:<12} {:<12} {:<12} {:<12} {:<12}'.format('resscale', 'T_ndof', 'T_{200,-100}', 'Tbar_s', 'Tbar_w', 'Vrmsw'))\n",
    "print('{:<12.4g} {:<12d} {:<12.4f} {:<12.4f} {:<12.4f} {:<12.4f}'.format(resscale2, T_ndof_case2_resscale2, diag_case2_resscale2[0], diag_case2_resscale2[1], diag_case2_resscale2[2], diag_case2_resscale2[3]))"
   ]
  },
  {
   "cell_type": "markdown",
   "id": "e4aa4549-beb7-491d-81b6-e8085d828222",
   "metadata": {},
   "source": [
    "For comparison here are the values reported for case 2 using [TerraFERMA](https://terraferma.github.io) in [Wilson & van Keken, 2023](http://dx.doi.org/10.1186/s40645-023-00588-6):\n",
    "\n",
    "| `resscale` | $T_{\\text{ndof}} $ | $T_{(200,-100)}^*$ | $\\overline{T}_s^*$ | $ \\overline{T}_w^* $ |  $V_{\\text{rms},w}^*$ |\n",
    "| - | - | - | - | - | - |\n",
    "| 2.0 | 21403  | 683.05 | 571.58 | 936.65 | 40.89 |\n",
    "| 1.0 | 83935 | 682.87 | 572.23 | 936.11 | 40.78 |\n",
    "| 0.5 | 332307 | 682.80 | 572.05 | 937.37 | 40.77 |"
   ]
  },
  {
   "cell_type": "code",
   "execution_count": null,
   "id": "1ea98d39-cf44-4aa9-901b-0ef6df4d2edc",
   "metadata": {},
   "outputs": [],
   "source": [
    "plotter_case2_resscale2 = utils.plot_scalar(sz_case2_resscale2.T_i, scale=sz_case2_resscale2.T0, cmap='coolwarm')\n",
    "utils.plot_vector_glyphs(sz_case2_resscale2.vw_i, plotter=plotter_case2_resscale2, factor=0.05, color='k', scale=utils.mps_to_mmpyr(sz_case2_resscale2.v0))\n",
    "utils.plot_vector_glyphs(sz_case2_resscale2.vs_i, plotter=plotter_case2_resscale2, factor=0.05, color='k', scale=utils.mps_to_mmpyr(sz_case2_resscale2.v0))\n",
    "utils.show(plotter_case2_resscale2, filename=\"case_2_resscale2_solution.png\")"
   ]
  },
  {
   "cell_type": "markdown",
   "id": "9fdf1aa4-c3b1-4ff8-966a-53338137bab3",
   "metadata": {},
   "source": [
    "## Global Suite"
   ]
  },
  {
   "cell_type": "markdown",
   "id": "ec168e13-06c5-463f-91ea-b05ad26cf83c",
   "metadata": {},
   "source": [
    "Load the data"
   ]
  },
  {
   "cell_type": "code",
   "execution_count": null,
   "id": "ffde75b2-375c-4114-93d6-99ef4676030e",
   "metadata": {},
   "outputs": [],
   "source": [
    "allsz_filename = os.path.join(os.pardir, \"data\", \"all_sz.json\")\n",
    "with open(allsz_filename, \"r\") as fp:\n",
    "    allsz_params = json.load(fp)"
   ]
  },
  {
   "cell_type": "markdown",
   "id": "ef70e714-df11-4051-b02e-c4e5073543f5",
   "metadata": {},
   "source": [
    "### Alaska Peninsula (dislocation creep, low res)"
   ]
  },
  {
   "cell_type": "code",
   "execution_count": null,
   "id": "3c63a131-2c94-4319-840d-dbf69542645b",
   "metadata": {
    "scrolled": true
   },
   "outputs": [],
   "source": [
    "resscale_ak = 5.0\n",
    "szdict_ak = allsz_params['01_Alaska_Peninsula']\n",
    "slab_ak = create_slab(szdict_ak['xs'], szdict_ak['ys'], resscale_ak, szdict_ak['lc_depth'])\n",
    "geom_ak = create_sz_geometry(slab_ak, resscale_ak, szdict_ak['sztype'], szdict_ak['io_depth'], szdict_ak['extra_width'], \n",
    "                             szdict_ak['coast_distance'], szdict_ak['lc_depth'], szdict_ak['uc_depth'])\n",
    "sz_ak = SubductionProblem(geom_ak, **szdict_ak)\n",
    "print(\"\\nSolving steady state flow with isoviscous rheology...\")\n",
    "sz_ak.solve_steadystate_dislocationcreep()"
   ]
  },
  {
   "cell_type": "code",
   "execution_count": null,
   "id": "474888b8-2b80-4de7-8f58-5903cf47beff",
   "metadata": {},
   "outputs": [],
   "source": [
    "plotter_ak = utils.plot_scalar(sz_ak.T_i, scale=sz_ak.T0, cmap='coolwarm')\n",
    "utils.plot_vector_glyphs(sz_ak.vw_i, plotter=plotter_ak, factor=0.1, color='k', scale=utils.mps_to_mmpyr(sz_ak.v0))\n",
    "utils.plot_vector_glyphs(sz_ak.vs_i, plotter=plotter_ak, factor=0.1, color='k', scale=utils.mps_to_mmpyr(sz_ak.v0))\n",
    "utils.show(plotter_ak, filename=\"ak_solution.png\")"
   ]
  },
  {
   "cell_type": "code",
   "execution_count": null,
   "id": "8f4a4296-34b4-4777-b868-ac869a3c6de2",
   "metadata": {},
   "outputs": [],
   "source": [
    "eta_ak = sz_ak.project_dislocationcreep_viscosity()\n",
    "plotter_eta_ak = utils.plot_scalar(eta_ak, scale=sz_ak.eta0, log_scale=True, show_edges=True)\n",
    "utils.show(plotter_eta_ak, filename=\"ak_eta.png\")"
   ]
  },
  {
   "cell_type": "markdown",
   "id": "c7befbfa-09e0-4d54-9b33-d83c7eaeb15a",
   "metadata": {},
   "source": [
    "### N Antilles (dislocation creep, low res)"
   ]
  },
  {
   "cell_type": "code",
   "execution_count": null,
   "id": "2297560c-778c-4816-bbf6-c39d15cf5ef6",
   "metadata": {
    "scrolled": true
   },
   "outputs": [],
   "source": [
    "resscale_ant = 5.0\n",
    "szdict_ant = allsz_params['19_N_Antilles']\n",
    "slab_ant = create_slab(szdict_ant['xs'], szdict_ant['ys'], resscale_ant, szdict_ant['lc_depth'])\n",
    "geom_ant = create_sz_geometry(slab_ant, resscale_ant, szdict_ant['sztype'], szdict_ant['io_depth'], szdict_ant['extra_width'], \n",
    "                              szdict_ant['coast_distance'], szdict_ant['lc_depth'], szdict_ant['uc_depth'])\n",
    "sz_ant = SubductionProblem(geom_ant, **szdict_ant)\n",
    "print(\"\\nSolving steady state flow with isoviscous rheology...\")\n",
    "sz_ant.solve_steadystate_dislocationcreep()"
   ]
  },
  {
   "cell_type": "code",
   "execution_count": null,
   "id": "eb2e133b-9e76-4132-b5b1-8fa675b063ab",
   "metadata": {},
   "outputs": [],
   "source": [
    "plotter_ant = utils.plot_scalar(sz_ant.T_i, scale=sz_ant.T0, cmap='coolwarm')\n",
    "utils.plot_vector_glyphs(sz_ant.vw_i, plotter=plotter_ant, factor=0.25, color='k', scale=utils.mps_to_mmpyr(sz_ant.v0))\n",
    "utils.plot_vector_glyphs(sz_ant.vs_i, plotter=plotter_ant, factor=0.25, color='k', scale=utils.mps_to_mmpyr(sz_ant.v0))\n",
    "utils.show(plotter_ant, filename=\"ant_solution.png\")"
   ]
  },
  {
   "cell_type": "code",
   "execution_count": null,
   "id": "83b38a67-797f-4f25-a36a-73cf1049f9d5",
   "metadata": {},
   "outputs": [],
   "source": [
    "eta_ant = sz_ant.project_dislocationcreep_viscosity()\n",
    "plotter_eta_ant = utils.plot_scalar(eta_ant, scale=sz_ant.eta0, log_scale=True, show_edges=True)\n",
    "utils.show(plotter_eta_ant, filename=\"ant_eta.png\")"
   ]
  },
  {
   "cell_type": "markdown",
   "id": "86c47632-fd61-4855-80e6-fbfca696407a",
   "metadata": {},
   "source": [
    "## Finish up"
   ]
  },
  {
   "cell_type": "markdown",
   "id": "6c0fe733-7adc-4069-bf1e-9e086715b7f5",
   "metadata": {},
   "source": [
    "Convert this notebook to a python script (making sure to save first)"
   ]
  },
  {
   "cell_type": "code",
   "execution_count": null,
   "id": "7998f2f4-7572-41db-8800-c0dd4b6bcb3a",
   "metadata": {},
   "outputs": [],
   "source": [
    "if __name__ == \"__main__\" and \"__file__\" not in globals():\n",
    "    from ipylab import JupyterFrontEnd\n",
    "    app = JupyterFrontEnd()\n",
    "    app.commands.execute('docmanager:save')\n",
    "    !jupyter nbconvert --NbConvertApp.export_format=script --ClearOutputPreprocessor.enabled=True SubductionBenchmarkSolutions.ipynb"
   ]
  },
  {
   "cell_type": "code",
   "execution_count": null,
   "id": "81a9fc5f-323c-41c0-8ff0-d3f6bc7205d6",
   "metadata": {},
   "outputs": [],
   "source": []
  }
 ],
 "metadata": {
  "kernelspec": {
   "display_name": "Python 3 (ipykernel)",
   "language": "python",
   "name": "python3"
  },
  "language_info": {
   "codemirror_mode": {
    "name": "ipython",
    "version": 3
   },
   "file_extension": ".py",
   "mimetype": "text/x-python",
   "name": "python",
   "nbconvert_exporter": "python",
   "pygments_lexer": "ipython3",
   "version": "3.10.12"
  }
 },
 "nbformat": 4,
 "nbformat_minor": 5
}
