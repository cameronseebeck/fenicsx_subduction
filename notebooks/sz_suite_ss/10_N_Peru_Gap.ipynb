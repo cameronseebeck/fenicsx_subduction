{
 "cells": [
  {
   "cell_type": "markdown",
   "id": "edf2fb7b-ac53-4d67-8fad-4f94f62adb7d",
   "metadata": {},
   "source": [
    "# Subduction Zone Steady State Suite\n",
    "\n",
    "Authors: Kidus Teshome, Cian Wilson"
   ]
  },
  {
   "cell_type": "markdown",
   "id": "c72ce8e7-e84b-4f27-98d6-2b94abe3e60f",
   "metadata": {},
   "source": [
    "## 10 N Peru Gap"
   ]
  },
  {
   "cell_type": "markdown",
   "id": "6e34c38f-5d19-4741-a5f2-03db72ace774",
   "metadata": {},
   "source": [
    "### Preamble"
   ]
  },
  {
   "cell_type": "code",
   "execution_count": null,
   "id": "a0a18160-c2ea-4c8b-b7dd-aad8ffc0f93c",
   "metadata": {},
   "outputs": [],
   "source": [
    "import sys, os\n",
    "basedir = ''\n",
    "if \"__file__\" in globals(): basedir = os.path.dirname(__file__)\n",
    "sys.path.append(os.path.join(basedir, os.path.pardir))"
   ]
  },
  {
   "cell_type": "markdown",
   "id": "0d485e8c-03d6-4828-868b-815f5b87647b",
   "metadata": {},
   "source": [
    "Start by loading everything we need from `sz_problem` and also set our default plotting preferences."
   ]
  },
  {
   "cell_type": "code",
   "execution_count": null,
   "id": "ab44bc2a-31ac-45b3-9d32-165412442cd1",
   "metadata": {},
   "outputs": [],
   "source": [
    "from sz_suite_ss import *\n",
    "import pyvista as pv\n",
    "if __name__ == \"__main__\" and \"__file__\" in globals():\n",
    "    pv.OFF_SCREEN = True\n",
    "if __name__ == \"__main__\":\n",
    "    output_folder = pathlib.Path(\"output\")\n",
    "    output_folder.mkdir(exist_ok=True, parents=True)"
   ]
  },
  {
   "cell_type": "markdown",
   "id": "c63ccf05-4716-4c43-a392-b7618ca52b29",
   "metadata": {},
   "source": [
    "### Steady state solution"
   ]
  },
  {
   "cell_type": "code",
   "execution_count": null,
   "id": "bfe9b466-a7c3-4341-8776-0567c161495f",
   "metadata": {},
   "outputs": [],
   "source": [
    "name = \"10_N_Peru_Gap\"\n",
    "resscale = 2.0\n",
    "sz = solve_steadystate_sz(name, resscale)"
   ]
  },
  {
   "cell_type": "code",
   "execution_count": null,
   "id": "0f820a3e-50e5-4b70-8961-54a00a0229a9",
   "metadata": {},
   "outputs": [],
   "source": [
    "plotter = utils.plot_scalar(sz.T_i, scale=sz.T0, gather=True, cmap='coolwarm')\n",
    "utils.plot_vector_glyphs(sz.vw_i, plotter=plotter, gather=True, factor=0.1, color='k', scale=utils.mps_to_mmpyr(sz.v0))\n",
    "utils.plot_vector_glyphs(sz.vs_i, plotter=plotter, gather=True, factor=0.1, color='k', scale=utils.mps_to_mmpyr(sz.v0))\n",
    "utils.plot_show(plotter)\n",
    "utils.plot_save(plotter, \"sz_suite_ss_{}_solution_{:.2f}.png\".format(\"10\", resscale))"
   ]
  },
  {
   "cell_type": "code",
   "execution_count": null,
   "id": "d4c6a8f4-25a9-474e-8c74-68701987d42b",
   "metadata": {},
   "outputs": [],
   "source": [
    "filename = output_folder / \"sz_suite_ss_{}_solution_{:.2f}.png\".format(\"10\", resscale)\n",
    "with df.io.VTXWriter(sz.mesh.comm, filename.with_suffix(\".bp\"), [sz.T_i, sz.vs_i, sz.vw_i]) as vtx:\n",
    "    vtx.write(0.0)"
   ]
  },
  {
   "cell_type": "markdown",
   "id": "86c47632-fd61-4855-80e6-fbfca696407a",
   "metadata": {},
   "source": [
    "## Finish up"
   ]
  },
  {
   "cell_type": "markdown",
   "id": "6c0fe733-7adc-4069-bf1e-9e086715b7f5",
   "metadata": {},
   "source": [
    "Convert this notebook to a python script (making sure to save first)"
   ]
  },
  {
   "cell_type": "code",
   "execution_count": null,
   "id": "7998f2f4-7572-41db-8800-c0dd4b6bcb3a",
   "metadata": {},
   "outputs": [],
   "source": [
    "if __name__ == \"__main__\" and \"__file__\" not in globals():\n",
    "    from ipylab import JupyterFrontEnd\n",
    "    app = JupyterFrontEnd()\n",
    "    app.commands.execute('docmanager:save')\n",
    "    !jupyter nbconvert --NbConvertApp.export_format=script --ClearOutputPreprocessor.enabled=True 10_N_Peru_Gap.ipynb"
   ]
  },
  {
   "cell_type": "code",
   "execution_count": null,
   "id": "81a9fc5f-323c-41c0-8ff0-d3f6bc7205d6",
   "metadata": {},
   "outputs": [],
   "source": []
  }
 ],
 "metadata": {
  "kernelspec": {
   "display_name": "Python 3 (ipykernel)",
   "language": "python",
   "name": "python3"
  },
  "language_info": {
   "codemirror_mode": {
    "name": "ipython",
    "version": 3
   },
   "file_extension": ".py",
   "mimetype": "text/x-python",
   "name": "python",
   "nbconvert_exporter": "python",
   "pygments_lexer": "ipython3",
   "version": "3.10.12"
  }
 },
 "nbformat": 4,
 "nbformat_minor": 5
}
