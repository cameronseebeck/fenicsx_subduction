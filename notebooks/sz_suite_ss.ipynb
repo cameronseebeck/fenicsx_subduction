{
 "cells": [
  {
   "cell_type": "markdown",
   "id": "edf2fb7b-ac53-4d67-8fad-4f94f62adb7d",
   "metadata": {},
   "source": [
    "# Subduction Zone Steady State Suite\n",
    "\n",
    "Authors: Kidus Teshome, Cian Wilson"
   ]
  },
  {
   "cell_type": "markdown",
   "id": "f830f86f-8e26-4a6e-b628-281ab76c01eb",
   "metadata": {},
   "source": [
    "## Implementation"
   ]
  },
  {
   "cell_type": "markdown",
   "id": "6e34c38f-5d19-4741-a5f2-03db72ace774",
   "metadata": {},
   "source": [
    "### Preamble"
   ]
  },
  {
   "cell_type": "markdown",
   "id": "0d485e8c-03d6-4828-868b-815f5b87647b",
   "metadata": {},
   "source": [
    "Start by loading everything we need from `sz_problem` and also set our default plotting preferences."
   ]
  },
  {
   "cell_type": "code",
   "execution_count": null,
   "id": "ab44bc2a-31ac-45b3-9d32-165412442cd1",
   "metadata": {},
   "outputs": [],
   "source": [
    "from sz_problem import *\n",
    "import pyvista as pv\n",
    "if __name__ == \"__main__\" and \"__file__\" in globals():\n",
    "    pv.OFF_SCREEN = True"
   ]
  },
  {
   "cell_type": "code",
   "execution_count": null,
   "id": "3171c326-d56c-48b4-9bf7-11a30c8a1400",
   "metadata": {},
   "outputs": [],
   "source": [
    "def solve_steadystate_sz(name, resscale):\n",
    "    szdict = allsz_params[name]\n",
    "    slab = create_slab(szdict['xs'], szdict['ys'], resscale, szdict['lc_depth'])\n",
    "    geom = create_sz_geometry(slab, resscale, szdict['sztype'], szdict['io_depth'], szdict['extra_width'], \n",
    "                                 szdict['coast_distance'], szdict['lc_depth'], szdict['uc_depth'])\n",
    "    sz = SubductionProblem(geom, **szdict)\n",
    "    \n",
    "    sz.solve_steadystate_dislocationcreep()\n",
    "\n",
    "    return sz"
   ]
  },
  {
   "cell_type": "markdown",
   "id": "86c47632-fd61-4855-80e6-fbfca696407a",
   "metadata": {},
   "source": [
    "## Finish up"
   ]
  },
  {
   "cell_type": "markdown",
   "id": "6c0fe733-7adc-4069-bf1e-9e086715b7f5",
   "metadata": {},
   "source": [
    "Convert this notebook to a python script (making sure to save first)"
   ]
  },
  {
   "cell_type": "code",
   "execution_count": null,
   "id": "7998f2f4-7572-41db-8800-c0dd4b6bcb3a",
   "metadata": {},
   "outputs": [],
   "source": [
    "if __name__ == \"__main__\" and \"__file__\" not in globals():\n",
    "    from ipylab import JupyterFrontEnd\n",
    "    app = JupyterFrontEnd()\n",
    "    app.commands.execute('docmanager:save')\n",
    "    !jupyter nbconvert --NbConvertApp.export_format=script --ClearOutputPreprocessor.enabled=True sz_suite_ss.ipynb"
   ]
  },
  {
   "cell_type": "code",
   "execution_count": null,
   "id": "81a9fc5f-323c-41c0-8ff0-d3f6bc7205d6",
   "metadata": {},
   "outputs": [],
   "source": []
  }
 ],
 "metadata": {
  "kernelspec": {
   "display_name": "Python 3 (ipykernel)",
   "language": "python",
   "name": "python3"
  },
  "language_info": {
   "codemirror_mode": {
    "name": "ipython",
    "version": 3
   },
   "file_extension": ".py",
   "mimetype": "text/x-python",
   "name": "python",
   "nbconvert_exporter": "python",
   "pygments_lexer": "ipython3",
   "version": "3.10.12"
  }
 },
 "nbformat": 4,
 "nbformat_minor": 5
}
