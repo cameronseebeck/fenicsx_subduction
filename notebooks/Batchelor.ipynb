{
 "cells": [
  {
   "cell_type": "code",
   "execution_count": null,
   "id": "0c08f601-4df0-44f4-b0e6-ad1a9d545f06",
   "metadata": {},
   "outputs": [],
   "source": [
    "from dolfinx import *\n",
    "from dolfinx import default_scalar_type\n",
    "from dolfinx.fem import *\n",
    "from mpi4py import *\n",
    "from dolfinx.fem.petsc import LinearProblem\n",
    "from dolfinx.plot import vtk_mesh\n",
    "from petsc4py import PETSc\n",
    "import numpy as np\n",
    "import matplotlib\n",
    "import matplotlib.pyplot as pl\n",
    "import math\n",
    "import pyvista\n",
    "import ufl\n",
    "import basix"
   ]
  },
  {
   "cell_type": "code",
   "execution_count": null,
   "id": "0bbac148-1658-4a4f-a1e9-57f5b77343ed",
   "metadata": {},
   "outputs": [],
   "source": [
    "# define exact solution\n",
    "def u_exact_np(x):\n",
    "    u = -1\n",
    "    theta = np.arctan2(x[1],x[0])\n",
    "\n",
    "    d_psi_d_r = (u/((1/4)*(np.pi**2)-1))*((-1/4)*(np.pi**2)*(np.sin(theta))+((1/2)*(np.pi)*(theta)*(np.sin(theta)))+((theta)*(np.cos(theta))))\n",
    "    d_psi_d_theta_overR = ((u)/((1/4)*(np.pi**2)-1)*(((-1/4)*(np.pi**2)*np.cos(theta))+((1/2)*(np.pi)*(np.sin(theta)))+((1/2)*(np.pi)*(theta)*(np.cos(theta)))+(np.cos(theta))-((theta)*(np.sin(theta)))))\n",
    "\n",
    "    return np.array([(((np.cos(theta) * (d_psi_d_theta_overR))) + (np.sin(theta) * d_psi_d_r)), (((np.sin(theta) * (d_psi_d_theta_overR))) - (np.cos(theta) * d_psi_d_r))])"
   ]
  },
  {
   "cell_type": "code",
   "execution_count": null,
   "id": "4732c4cf-013f-4f2a-9071-85b408317528",
   "metadata": {},
   "outputs": [],
   "source": [
    "# define a function which returns values for Dirichlet boundary condition (60)\n",
    "def u_0(x):\n",
    "    u = -1\n",
    "    us = u * np.ones_like(x[0])\n",
    "    zeroes = np.zeros_like(x[0])\n",
    "    \n",
    "    return np.array([us, zeroes])"
   ]
  },
  {
   "cell_type": "code",
   "execution_count": null,
   "id": "894bf1f0-8fb4-4dc7-afb5-366ba87d2e85",
   "metadata": {},
   "outputs": [],
   "source": [
    "#specify function inputs to test\n",
    "ne = 4\n",
    "p = 1\n",
    "\n",
    "# define the domain (unit square) of length and width ne, running in parallel\n",
    "domain = mesh.create_unit_square(MPI.COMM_WORLD, ne, ne)\n",
    "\n",
    "# define velocity and pressure element\n",
    "v_e = basix.ufl.element(\"Lagrange\", domain.basix_cell(), p+1, shape=(domain.geometry.dim,))\n",
    "p_e = basix.ufl.element(\"Lagrange\", domain.basix_cell(), p)\n",
    "\n",
    "# define mixed element\n",
    "vPe = basix.ufl.mixed_element([v_e, p_e])\n",
    "\n",
    "# define function space\n",
    "V = functionspace(domain, vPe)\n",
    "\n",
    "# define Velocity function space\n",
    "V_v, _ = V.sub(0).collapse()\n",
    "\n",
    "# define test functions\n",
    "v_t, p_t = ufl.TestFunctions(V)\n",
    "\n",
    "# define boundary value for Dirichlet boundary condition (59)\n",
    "def boundary_D_1(x):\n",
    "    return np.isclose(x[0], 0)\n",
    "\n",
    "dofs_D_1 = locate_dofs_geometrical(V_v, boundary_D_1)\n",
    "u_bc1 = Function(V_v)\n",
    "u_bc1.x.array[:] = 0\n",
    "bc1 = dirichletbc(u_bc1, dofs_D_1)\n",
    "\n",
    "# define boundary value for Dirichlet boundary condition (60)\n",
    "def boundary_D_2(x):\n",
    "    return np.isclose(x[1], 0)\n",
    "\n",
    "dofs_D_2 = locate_dofs_geometrical(V_v, boundary_D_2)\n",
    "u_bc2 = Function(V_v)\n",
    "u_bc2.interpolate(u_0)\n",
    "bc2 = dirichletbc(u_bc2, dofs_D_2)\n",
    "\n",
    "# define boundary value for Dirichlet boundary condition (61)\n",
    "def boundary_D_3(x):\n",
    "    return np.logical_or(np.isclose(x[0], 1), np.isclose(x[1], 1))\n",
    "\n",
    "dofs_D_3 = locate_dofs_geometrical(V_v, boundary_D_3)\n",
    "u_bc3 = Function(V_v)\n",
    "u_bc3.interpolate(u_exact_np)\n",
    "bc3 = dirichletbc(u_bc3, dofs_D_3)"
   ]
  },
  {
   "cell_type": "code",
   "execution_count": null,
   "id": "f5cb71dc-a354-4392-b55b-59e2c0037be6",
   "metadata": {},
   "outputs": [],
   "source": [
    "pyvista.start_xvfb()\n",
    "pyvista_cells, cell_types, geometry = vtk_mesh(u_bc3.function_space)\n",
    "grid = pyvista.UnstructuredGrid(pyvista_cells, cell_types, geometry)\n",
    "\n",
    "values = np.zeros((geometry.shape[0], 3))\n",
    "values[:, :len(u_bc3)] = u_bc3.x.array.real.reshape((geometry.shape[0], len(u_bc3)))\n",
    "grid[\"u\"] = values\n",
    "geom = pyvista.Arrow()\n",
    "glyphs = grid.glyph(orient=\"u\", geom=geom, factor=0.1)\n",
    "\n",
    "plotter = pyvista.Plotter(window_size=[800,800])\n",
    "#plotter.add_mesh(grid, show_edges=True, show_scalar_bar=False, cmap='coolwarm')\n",
    "plotter.add_mesh(glyphs, cmap='coolwarm', show_scalar_bar=True)\n",
    "plotter.add_text(\"Intermediate Vector Case: g Solution\", position=\"upper_edge\", font_size=14, color=\"black\")\n",
    "plotter.view_xy()\n",
    "plotter.show()"
   ]
  },
  {
   "cell_type": "code",
   "execution_count": null,
   "id": "98b6d73c-aeaf-423d-9bc4-03f7692b41bb",
   "metadata": {},
   "outputs": [],
   "source": []
  },
  {
   "cell_type": "code",
   "execution_count": null,
   "id": "cef84368-0c0b-431b-a7af-0731fe4d9740",
   "metadata": {},
   "outputs": [],
   "source": []
  }
 ],
 "metadata": {
  "kernelspec": {
   "display_name": "Python 3 (ipykernel)",
   "language": "python",
   "name": "python3"
  },
  "language_info": {
   "codemirror_mode": {
    "name": "ipython",
    "version": 3
   },
   "file_extension": ".py",
   "mimetype": "text/x-python",
   "name": "python",
   "nbconvert_exporter": "python",
   "pygments_lexer": "ipython3",
   "version": "3.10.12"
  }
 },
 "nbformat": 4,
 "nbformat_minor": 5
}
