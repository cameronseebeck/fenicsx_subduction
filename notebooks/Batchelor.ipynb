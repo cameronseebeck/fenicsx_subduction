{
 "cells": [
  {
   "cell_type": "code",
   "execution_count": 3,
   "id": "0c08f601-4df0-44f4-b0e6-ad1a9d545f06",
   "metadata": {},
   "outputs": [],
   "source": [
    "from dolfinx import *\n",
    "from dolfinx import default_scalar_type\n",
    "from dolfinx.fem import *\n",
    "from mpi4py import *\n",
    "from dolfinx.fem.petsc import LinearProblem\n",
    "from dolfinx.plot import vtk_mesh\n",
    "import numpy as np\n",
    "import matplotlib\n",
    "import matplotlib.pyplot as pl\n",
    "import math\n",
    "import pyvista\n",
    "import ufl\n",
    "import basix"
   ]
  },
  {
   "cell_type": "code",
   "execution_count": 26,
   "id": "0bbac148-1658-4a4f-a1e9-57f5b77343ed",
   "metadata": {},
   "outputs": [],
   "source": [
    "def v_exact_np(x):\n",
    "    u = 1\n",
    "    r = np.sqrt((x[0])**2+(x[1])**2)\n",
    "    theta = np.atan2(x[1],x[0])\n",
    "\n",
    "    d_psi_d_r = (u/((1/4)*(np.pi**2)-1))*((-1/4)*(np.pi**2)*(np.sin(theta))+((1/2)*np.pi*theta*np.sin(theta))+(theta*np.cos(theta)))\n",
    "    d_psi_d_theta = ((np.pi*theta*np.cos(theta))/2) - (theta*np.sin(theta)) + ((np.pi/2)*np.sin(theta)) + (((- np.pi**2 + 4)/4)) * np.cos(theta)\n",
    "\n",
    "    return np.array([((np.cos(theta) * d_psi_d_theta/r) + (np.sin(theta) * d_psi_d_r)), ((np.sin(theta) * d_psi_d_theta/r) - (np.cos(theta) * d_psi_d_r))])"
   ]
  },
  {
   "cell_type": "code",
   "execution_count": 32,
   "id": "894bf1f0-8fb4-4dc7-afb5-366ba87d2e85",
   "metadata": {},
   "outputs": [],
   "source": [
    "#specify function inputs to test\n",
    "ne = 4\n",
    "p = 1\n",
    "\n",
    "# define the domain (unit square) of length and width ne, running in parallel\n",
    "domain = mesh.create_unit_square(MPI.COMM_WORLD, ne, ne)\n",
    "\n",
    "v_e = basix.ufl.element(\"Lagrange\", domain.basix_cell(), p+1, shape=(domain.geometry.dim,))\n",
    "p_e = basix.ufl.element(\"Lagrange\", domain.basix_cell(), p)\n",
    "\n",
    "vPe = basix.ufl.mixed_element([v_e, p_e])\n",
    "\n",
    "V = functionspace(domain, vPe)\n",
    "\n",
    "v_v = V.sub(0)\n",
    "v_p = V.sub(1)\n",
    "\n",
    "v_t, p_t = ufl.TestFunctions(V)"
   ]
  },
  {
   "cell_type": "code",
   "execution_count": null,
   "id": "8a457a3b-d3db-4b74-9a00-8825b7e62033",
   "metadata": {},
   "outputs": [],
   "source": []
  }
 ],
 "metadata": {
  "kernelspec": {
   "display_name": "Python 3 (ipykernel)",
   "language": "python",
   "name": "python3"
  },
  "language_info": {
   "codemirror_mode": {
    "name": "ipython",
    "version": 3
   },
   "file_extension": ".py",
   "mimetype": "text/x-python",
   "name": "python",
   "nbconvert_exporter": "python",
   "pygments_lexer": "ipython3",
   "version": "3.10.12"
  }
 },
 "nbformat": 4,
 "nbformat_minor": 5
}
