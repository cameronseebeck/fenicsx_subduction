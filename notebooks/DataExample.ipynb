{
 "cells": [
  {
   "cell_type": "markdown",
   "id": "35f6f23b-56ca-4d87-a765-31fed3b82d64",
   "metadata": {},
   "source": [
    "# Data Example Geometry"
   ]
  },
  {
   "cell_type": "markdown",
   "id": "55df8f69",
   "metadata": {},
   "source": [
    "Define some filenames"
   ]
  },
  {
   "cell_type": "code",
   "execution_count": null,
   "id": "e1d7a57e",
   "metadata": {},
   "outputs": [],
   "source": [
    "import os\n",
    "data_filename   = os.path.join(os.pardir, \"data\", \"all_sz.json\")\n",
    "params_filename = os.path.join(os.pardir, \"data\", \"default_params.json\")"
   ]
  },
  {
   "cell_type": "markdown",
   "id": "f5c1e66b",
   "metadata": {},
   "source": [
    "Load the subduction zone parameters"
   ]
  },
  {
   "cell_type": "code",
   "execution_count": null,
   "id": "ec023a71",
   "metadata": {},
   "outputs": [],
   "source": [
    "import json\n",
    "with open(data_filename, \"r\") as fp:\n",
    "    szparams = json.load(fp)"
   ]
  },
  {
   "cell_type": "markdown",
   "id": "5d7696be",
   "metadata": {},
   "source": [
    "The \"minimum\" resolution, used to scale resolutions throughout the mesh.  The current default of 10.0km is way too high for a real subduction zone model but helps to keep this test notebook fast and readable."
   ]
  },
  {
   "cell_type": "code",
   "execution_count": null,
   "id": "9b333d4f",
   "metadata": {},
   "outputs": [],
   "source": [
    "minres = 10.0 # km"
   ]
  },
  {
   "cell_type": "code",
   "execution_count": null,
   "id": "342614d2",
   "metadata": {},
   "outputs": [],
   "source": [
    "import numpy as np"
   ]
  },
  {
   "cell_type": "markdown",
   "id": "634b5363",
   "metadata": {},
   "source": [
    "Load the default parameters"
   ]
  },
  {
   "cell_type": "code",
   "execution_count": null,
   "id": "4713cb74-2337-496e-b538-adf714ad66e7",
   "metadata": {},
   "outputs": [],
   "source": [
    "with open(params_filename, \"r\") as fp:\n",
    "    default_params = json.load(fp)"
   ]
  },
  {
   "cell_type": "markdown",
   "id": "0fe8236d",
   "metadata": {},
   "source": [
    "List the available subduction zones that we've just loaded from the json file"
   ]
  },
  {
   "cell_type": "code",
   "execution_count": null,
   "id": "c5f03fac",
   "metadata": {},
   "outputs": [],
   "source": [
    "print(\"Available subduction zones:\")\n",
    "for k in szparams.keys(): print(k)"
   ]
  },
  {
   "cell_type": "markdown",
   "id": "6a06f43a",
   "metadata": {},
   "source": [
    "## This is where you can switch between subduction zones!!\n",
    "\n",
    "Choose a subduction zone from the list on the first line of the following cell to load the geometrical parameters from the dictionary"
   ]
  },
  {
   "cell_type": "code",
   "execution_count": null,
   "id": "89583dec",
   "metadata": {},
   "outputs": [],
   "source": [
    "szname = \"07_Nicaragua\"  # change this to switch subduction zones\n",
    "szdata = szparams[szname]\n",
    "coast_distance = szdata['deltaxcoast']\n",
    "extra_width = szdata['deltaxwidth']\n",
    "lc_depth = szdata['deltazmoho']\n",
    "uc_depth = szdata['deltazuc']\n",
    "io_depth = szdata['deltazoutflow']\n",
    "points = np.asarray([szdata['trench']]+szdata['slabpoints'])\n",
    "xs = points[:,0]\n",
    "ys = points[:,1]\n",
    "res = [1*minres if y >= -default_params[\"slab_diag_depth2\"] else 3*minres for y in ys]"
   ]
  },
  {
   "cell_type": "markdown",
   "id": "3d0082ab",
   "metadata": {},
   "source": [
    "Load the geometry module so we can build a mesh based on the above parameters"
   ]
  },
  {
   "cell_type": "code",
   "execution_count": null,
   "id": "e4f3c97e",
   "metadata": {},
   "outputs": [],
   "source": [
    "import sys, os\n",
    "sys.path.append(os.path.join(os.path.pardir, 'python'))\n",
    "import geometry as geo"
   ]
  },
  {
   "cell_type": "markdown",
   "id": "d1104627",
   "metadata": {},
   "source": [
    "Define the slab spline"
   ]
  },
  {
   "cell_type": "code",
   "execution_count": null,
   "id": "25d96116-f6eb-47d3-a5c9-75c6bd67bee1",
   "metadata": {},
   "outputs": [],
   "source": [
    "# set up the surface ids for the slab depending on depth\n",
    "sids = []\n",
    "for y in ys[1:]:\n",
    "    if y >= -lc_depth: \n",
    "        sid = default_params['fault_sid']\n",
    "    elif y >= -default_params['slab_diag_depth1']:\n",
    "        sid = default_params['slab_sid']\n",
    "    elif y >= -default_params['slab_diag_depth2']:\n",
    "        sid = default_params['slab_diag_sid']\n",
    "    else:\n",
    "        sid = default_params['slab_sid']\n",
    "    sids.append(sid)\n",
    "sids"
   ]
  },
  {
   "cell_type": "code",
   "execution_count": null,
   "id": "b7c9228b-412d-4e25-8427-d93cbba650cf",
   "metadata": {},
   "outputs": [],
   "source": [
    "# set up the slab spline\n",
    "slab = geo.SlabSpline(xs, ys, res=res, sid=sids, name=\"Slab\")\n",
    "# adding the coupling depths may or may not be necessary\n",
    "# depending on if they were included in the slab spline data already or not\n",
    "# the slab class should ignore them if they aren't necessary\n",
    "slab.addpoint(default_params['partial_coupling_depth'], \"Slab::PartialCouplingDepth\", \n",
    "              res=default_params['partial_coupling_depth_res_fact']*minres, \n",
    "              sid=default_params['slab_diag_sid'])\n",
    "slab.addpoint(default_params['full_coupling_depth'], \"Slab::FullCouplingDepth\", \n",
    "              res=default_params['full_coupling_depth_res_fact']*minres, \n",
    "              sid=default_params['slab_diag_sid'])\n",
    "# add the slab detector point\n",
    "slab.addpoint(default_params[\"slab_det_depth\"], \"Slab::DetectorPoint\", \n",
    "              res=default_params[\"full_coupling_depth_res_fact\"]*minres,\n",
    "              sid=default_params['slab_diag_sid'])"
   ]
  },
  {
   "cell_type": "markdown",
   "id": "aa98d971",
   "metadata": {},
   "source": [
    "Define the subduction geometry, including crustal layers and plot"
   ]
  },
  {
   "cell_type": "code",
   "execution_count": null,
   "id": "d3b8564e",
   "metadata": {},
   "outputs": [],
   "source": [
    "geom = geo.SubductionGeometry(slab, **default_params, \n",
    "                              wedge_side_top_res=default_params[\"wedge_side_top_res_fact\"]*minres,\n",
    "                              wedge_side_base_res=default_params[\"wedge_side_base_res_fact\"]*minres,\n",
    "                              slab_side_base_res=default_params[\"slab_side_base_res_fact\"]*minres,\n",
    "                              coast_res=default_params[\"coast_res_fact\"]*minres,\n",
    "                              coast_distance=coast_distance, extra_width=extra_width)\n",
    "# add a lower crust\n",
    "geom.addcrustlayer(lc_depth, \"LowerCrust\", \n",
    "                   sid=default_params[\"lc_base_sid\"], rid=default_params[\"lc_rid\"],\n",
    "                   slab_res=default_params[\"lc_slab_res_fact\"]*minres,\n",
    "                   side_res=default_params[\"lc_side_res_fact\"]*minres,\n",
    "                   slab_sid=default_params[\"fault_sid\"],\n",
    "                   side_sid=default_params[\"lc_side_sid\"])\n",
    "# oceanic subduction zones don't define an upper crust\n",
    "if uc_depth is not None:\n",
    "    geom.addcrustlayer(uc_depth, \"UpperCrust\", \n",
    "                       sid=default_params[\"uc_base_sid\"], rid=default_params[\"uc_rid\"],\n",
    "                       slab_res=default_params[\"uc_slab_res_fact\"]*minres,\n",
    "                       side_res=default_params[\"uc_side_res_fact\"]*minres,\n",
    "                       slab_sid=default_params[\"fault_sid\"],\n",
    "                       side_sid=default_params[\"uc_side_sid\"])\n",
    "# add the pre-defined in-out point\n",
    "geom.addwedgesidepoint(io_depth, \"WedgeSide::InOut\", line_name=\"UpperWedgeSide\", \n",
    "                       res=default_params[\"io_depth_res_fact\"]*minres, \n",
    "                       sid=default_params[\"upper_wedge_side_sid\"])\n",
    "# add wedge dividers for the diagnostics\n",
    "geom.addwedgedivider(default_params[\"slab_diag_depth1\"], \"ColdCorner\", \n",
    "                     slab_res=default_params[\"slab_diag_res2_fact\"]*minres, \n",
    "                     top_res=default_params[\"slab_diag_res2_fact\"]*minres,\n",
    "                     rid=default_params[\"wedge_rid\"], \n",
    "                     slab_sid=default_params[\"slab_sid\"])\n",
    "# add wedge dividers for the diagnostics\n",
    "geom.addwedgedivider(default_params[\"slab_diag_depth2\"], \"WedgeFocused\", \n",
    "                     slab_res=default_params[\"slab_diag_res1_fact\"]*minres, \n",
    "                     top_res=default_params[\"slab_diag_res1_fact\"]*minres,\n",
    "                     rid=default_params[\"wedge_diag_rid\"], \n",
    "                     slab_sid=default_params[\"slab_diag_sid\"])\n",
    "geom.plot(label_sids=True, label_rids=True)\n",
    "#geom.writegeofile(szname+\".geo_unrolled\")"
   ]
  },
  {
   "cell_type": "code",
   "execution_count": null,
   "id": "721e5238-063d-4be5-9309-8da3d32c7f40",
   "metadata": {
    "scrolled": true
   },
   "outputs": [],
   "source": [
    "mesh, ct, ft = geom.generatemesh()"
   ]
  },
  {
   "cell_type": "raw",
   "id": "7638edb5-25e0-4671-bc10-ec5cbe931bbc",
   "metadata": {},
   "source": [
    "import dolfinx\n",
    "import numpy as np\n",
    "tdim = mesh.topology.dim\n",
    "fdim = tdim - 1\n",
    "fcc = mesh.topology.connectivity(fdim, tdim)\n",
    "cft = np.zeros_like(ct.values)\n",
    "for f in range(ft.values.size):\n",
    "    for c in fcc.links(ft.indices[f]):\n",
    "        cft[c] = ft.values[f]\n",
    "import pyvista\n",
    "pyvista.start_xvfb()\n",
    "from dolfinx.plot import create_vtk_mesh\n",
    "topology, cell_types, x = create_vtk_mesh(mesh, mesh.topology.dim)\n",
    "grid = pyvista.UnstructuredGrid(topology, cell_types, x)\n",
    "grid.cell_data[\"Marker\"] = cft\n",
    "grid.set_active_scalars(\"Marker\")\n",
    "\n",
    "p = pyvista.Plotter(window_size=[800, 800])\n",
    "p.add_mesh(grid, show_edges=False)\n",
    "p.view_xy()\n",
    "p.show()"
   ]
  },
  {
   "cell_type": "code",
   "execution_count": null,
   "id": "6e1beeeb-0eb7-4ee6-9f98-97945533bd64",
   "metadata": {},
   "outputs": [],
   "source": []
  },
  {
   "cell_type": "code",
   "execution_count": null,
   "id": "bc10efee-de5d-4a5c-99dc-db424e08b4e8",
   "metadata": {},
   "outputs": [],
   "source": [
    "import pyvista\n",
    "pyvista.start_xvfb()\n",
    "from dolfinx.plot import create_vtk_mesh\n",
    "topology, cell_types, x = create_vtk_mesh(mesh, mesh.topology.dim)\n",
    "grid = pyvista.UnstructuredGrid(topology, cell_types, x)\n",
    "num_local_cells = mesh.topology.index_map(mesh.topology.dim).size_local\n",
    "# grid.cell_data[\"Marker\"] = ct.values[ct.indices<num_local_cells]\n",
    "# grid.set_active_scalars(\"Marker\")\n",
    "\n",
    "p = pyvista.Plotter(window_size=[800, 800])\n",
    "p.add_mesh(grid, show_edges=True)\n",
    "p.view_xy()\n",
    "p.show()"
   ]
  },
  {
   "cell_type": "code",
   "execution_count": null,
   "id": "e0f87ccc-d03f-44d1-827c-da5a599ad499",
   "metadata": {},
   "outputs": [],
   "source": []
  }
 ],
 "metadata": {
  "kernelspec": {
   "display_name": "Python 3 (ipykernel)",
   "language": "python",
   "name": "python3"
  },
  "language_info": {
   "codemirror_mode": {
    "name": "ipython",
    "version": 3
   },
   "file_extension": ".py",
   "mimetype": "text/x-python",
   "name": "python",
   "nbconvert_exporter": "python",
   "pygments_lexer": "ipython3",
   "version": "3.10.12"
  }
 },
 "nbformat": 4,
 "nbformat_minor": 5
}
