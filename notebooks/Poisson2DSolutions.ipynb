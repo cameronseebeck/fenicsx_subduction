{
 "cells": [
  {
   "cell_type": "markdown",
   "id": "873326ab-056d-4165-95e4-be0270cc3ea4",
   "metadata": {},
   "source": [
    "# Poisson Example 2D Solutions"
   ]
  },
  {
   "cell_type": "markdown",
   "id": "75ea99bb-ee37-4be9-b4f6-32f060d90102",
   "metadata": {},
   "source": [
    "## Load"
   ]
  },
  {
   "cell_type": "code",
   "execution_count": null,
   "id": "a3c0c86c-7233-4209-8128-0d78e38e8a64",
   "metadata": {},
   "outputs": [],
   "source": [
    "%run Poisson2D.ipynb"
   ]
  },
  {
   "cell_type": "markdown",
   "id": "ed3cb5d7-724d-428b-804c-a32d204af6d5",
   "metadata": {},
   "source": [
    "## Testing"
   ]
  },
  {
   "cell_type": "code",
   "execution_count": null,
   "id": "5741126c-5999-4f0d-950e-4174d366d316",
   "metadata": {},
   "outputs": [],
   "source": [
    "def evaluate_error(T_i):\n",
    "    \"\"\"\n",
    "    A python function to evaluate the l2 norm of the error in \n",
    "    the two dimensional Poisson problem given a known analytical\n",
    "    solution.\n",
    "    \"\"\"\n",
    "    # Define the exact solution\n",
    "    x  = ufl.SpatialCoordinate(T_i.function_space.mesh)\n",
    "    Te = ufl.exp(x[0] + x[1]/2.)\n",
    "    \n",
    "    # Define the error between the exact solution and the given\n",
    "    # approximate solution\n",
    "    l2err = df.fem.assemble_scalar(df.fem.form((T_i - Te)*(T_i - Te)*ufl.dx))**0.5\n",
    "    \n",
    "    # Return the l2 norm of the error\n",
    "    return l2err\n"
   ]
  },
  {
   "cell_type": "code",
   "execution_count": null,
   "id": "d03c68d4-c22c-4768-b20d-c91b8ddc5fbc",
   "metadata": {},
   "outputs": [],
   "source": [
    "# Open a figure for plotting\n",
    "fig = pl.figure()\n",
    "\n",
    "# Make an output folder\n",
    "output_folder = pathlib.Path(\"output\")\n",
    "output_folder.mkdir(exist_ok=True, parents=True)\n",
    "\n",
    "# List of polynomial orders to try\n",
    "ps = [1, 2]\n",
    "# List of resolutions to try\n",
    "nelements = [10, 20, 40, 80, 160, 320]\n",
    "# Keep track of whether we get the expected order of convergence\n",
    "test_passes = True\n",
    "# Loop over the polynomial orders\n",
    "for p in ps:\n",
    "# Accumulate the errors\n",
    "    errors_l2_a = []\n",
    "    # Loop over the resolutions\n",
    "    for ne in nelements:\n",
    "        # Solve the 2D Poisson problem\n",
    "        T_i = solve_poisson_2d(ne, p)\n",
    "        # Evaluate the error in the approximate solution\n",
    "        l2error = evaluate_error(T_i)\n",
    "        # Print to screen and save\n",
    "        print('ne = ', ne, ', l2error = ', l2error)\n",
    "        errors_l2_a.append(l2error)\n",
    "    \n",
    "    # Work out the order of convergence at this p\n",
    "    hs = 1./np.array(nelements)/p\n",
    "    \n",
    "    # Write the errors to disk\n",
    "    with open(output_folder / '2d_poisson_convergence_p{}.csv'.format(p), 'w') as f:\n",
    "        np.savetxt(f, np.c_[nelements, hs, errors_l2_a], delimiter=',', \n",
    "                header='nelements, hs, l2errs')\n",
    "    \n",
    "    # Fit a line to the convergence data\n",
    "    fit = np.polyfit(np.log(hs), np.log(errors_l2_a),1)\n",
    "    print(\"***********  order of accuracy p={}, order={:.2f}\".format(p,fit[0]))\n",
    "    \n",
    "    # log-log plot of the error  \n",
    "    pl.loglog(hs,errors_l2_a,'o-',label='p={}, order={:.2f}'.format(p,fit[0]))\n",
    "    \n",
    "    # Test if the order of convergence is as expected\n",
    "    test_passes = test_passes and fit[0] > p+0.9\n",
    "\n",
    "# Tidy up the ploy\n",
    "pl.xlabel('h')\n",
    "pl.ylabel('||e||_2')\n",
    "pl.grid()\n",
    "pl.title('Convergence')\n",
    "pl.legend()\n",
    "pl.savefig(output_folder / '2d_poisson_convergence.pdf')\n",
    "\n",
    "print(\"***********  convergence figure in output/poisson_convergence.pdf\")\n",
    "# Check if we passed the test\n",
    "assert(test_passes)"
   ]
  },
  {
   "cell_type": "code",
   "execution_count": null,
   "id": "d771a4d1-e763-4453-8eed-7eb98d8081b2",
   "metadata": {},
   "outputs": [],
   "source": []
  }
 ],
 "metadata": {
  "kernelspec": {
   "display_name": "Python 3 (ipykernel)",
   "language": "python",
   "name": "python3"
  },
  "language_info": {
   "codemirror_mode": {
    "name": "ipython",
    "version": 3
   },
   "file_extension": ".py",
   "mimetype": "text/x-python",
   "name": "python",
   "nbconvert_exporter": "python",
   "pygments_lexer": "ipython3",
   "version": "3.10.12"
  }
 },
 "nbformat": 4,
 "nbformat_minor": 5
}
