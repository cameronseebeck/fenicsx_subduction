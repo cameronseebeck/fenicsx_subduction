{
 "cells": [
  {
   "cell_type": "markdown",
   "id": "f32f12a8-7593-4984-ae16-a5210986434c",
   "metadata": {},
   "source": [
    "# Poisson Example 2D"
   ]
  },
  {
   "cell_type": "markdown",
   "id": "e2f4f19b-7ff8-4253-956e-fd4bc6034b69",
   "metadata": {},
   "source": [
    "## Description"
   ]
  },
  {
   "cell_type": "markdown",
   "id": "bc51a17a-57a7-454a-bd69-e7d80253b36e",
   "metadata": {},
   "source": [
    "We can generalize (and formalize) the description of the Poisson equation \n",
    "using the steady-state heat diffusion equation in multiple dimensions\n",
    "\\begin{align}\n",
    "-\\nabla \\cdot\\left( k \\nabla T \\right) &= H && \\text{in }\\Omega\n",
    "\\end{align}\n",
    "$T$ is the temperature solution we are seeking, $k$ is the thermal conductivity and \n",
    "$H$ is a heat source, and $\\Omega$ is the domain with boundary $\\partial\\Omega$.  If $k$ is constant in space we can simplify to\n",
    "\\begin{align}\n",
    "-\\nabla^2 T &= h && \\text{in }\\Omega\n",
    "\\end{align}\n",
    "where $h = \\frac{H}{k}$.  "
   ]
  },
  {
   "cell_type": "markdown",
   "id": "3bd74c25-1d90-40db-85cf-7a39dd9949f7",
   "metadata": {},
   "source": [
    "### Boundary conditions"
   ]
  },
  {
   "cell_type": "markdown",
   "id": "f8744267-0a0f-4e6a-9351-8022909627d1",
   "metadata": {},
   "source": [
    "We supplement the Poisson equation with some combination of the boundary conditions \n",
    "\\begin{align}\n",
    "T &= g_D && \\text{on } \\partial\\Omega_D \\subset \\partial\\Omega \\\\\n",
    "\\nabla T\\cdot\\hat{\\vec{n}} &= g_N && \\text{on } \\partial\\Omega_N \\subset \\partial\\Omega \\\\\n",
    "aT + \\nabla T\\cdot\\hat{\\vec{n}} &= g_R && \\text{on } \\partial\\Omega_R \\subset \\partial\\Omega \n",
    "\\end{align}\n",
    "where $\\partial\\Omega_D$, $\\partial\\Omega_N$ and $\\partial\\Omega_R$ are\n",
    "segments of the domain boundary that do not overlap ($\\partial\\Omega_D \\bigcap \\partial\\Omega_N =\\emptyset$, $\\partial\\Omega_D \\bigcap \\partial\\Omega_R =\\emptyset$, $\\partial\\Omega_N \\bigcap \\partial\\Omega_R =\\emptyset$) and that together span the entire boundary ($\\partial\\Omega_D \\bigcup \\partial\\Omega_N \\bigcup \\partial\\Omega_R = \\partial\\Omega$).  The unit outward-pointing normal to the boundary $\\partial\\Omega$ is denoted by $\\hat{\\vec{n}}$ and $g_D = g_D(\\vec{x}, t)$, $g_N = g_N(\\vec{x}, t)$ and $g_R = g_R(\\vec{x}, t)$ are known functions of space and time.  \n",
    "\n",
    "The first boundary condition is known as a Dirichlet boundary condition and specifies the value of the solution on $\\partial\\Omega_D$. The second is a Neumann boundary condition and specifies the value of the flux through $\\partial\\Omega_N$. Finally, the third is a Robin boundary condition, which describes a linear combination of the flux and the solution on $\\partial\\Omega_R$."
   ]
  },
  {
   "cell_type": "markdown",
   "id": "623fa8e3-a79c-4a46-873b-238042d4b598",
   "metadata": {},
   "source": [
    "### Weak form"
   ]
  },
  {
   "cell_type": "markdown",
   "id": "36385176-493d-4710-9c01-4de229263732",
   "metadata": {},
   "source": [
    "The first step in the finite element discretization is to transform the equation into its **weak form**.  This requires multiplying the equation by a test function,  $T_t$,  and integrating over the domain $\\Omega$\n",
    "\\begin{equation}\n",
    "-\\int_\\Omega T_t \\nabla^2 T ~dx = \\int_\\Omega T_t h ~dx\n",
    "\\end{equation}\n",
    "After integrating the left-hand side by parts\n",
    "\\begin{equation}\n",
    "\\int_\\Omega \\nabla T_t \\cdot \\nabla T ~dx - \\int_{\\partial\\Omega} T_t \\nabla T\\cdot\\hat{\\vec{n}}~ds = \\int_\\Omega T_t h ~dx\n",
    "\\end{equation}\n",
    "we can see that we have reduced the continuity requirements on $T$ by only requiring its first derivative to be bounded across $\\Omega$. Integrating by parts also allows Neumann and Robin boundary conditions to be imposed \"naturally\" through the second integral on the left-hand side since this directly incorporates the flux components across the boundary.  In this formulation, Dirichlet conditions cannot be imposed weakly and are referred to as essential boundary conditions,  that are required of the solution but do not arise naturally in the weak form.  The weak form therefore becomes: find $T$ such that $T$=$g_D$ on $\\partial\\Omega_D$ and\n",
    "\\begin{equation}\n",
    "\\int_\\Omega \\nabla T_t \\cdot \\nabla T ~dx - \\int_{\\partial\\Omega_N} T_t g_N ~ds - \\int_{\\partial\\Omega_R} T_t \\left(g_R - aT\\right)~ds = \\int_\\Omega T_t h ~dx\n",
    "\\end{equation}\n",
    "for all $T_t$ such that $T_t = 0$ on $\\partial\\Omega_D$.  "
   ]
  },
  {
   "cell_type": "markdown",
   "id": "bdcaf2c3-42f7-4a14-8cb0-5782634f8b7c",
   "metadata": {},
   "source": [
    "### Discretization"
   ]
  },
  {
   "cell_type": "markdown",
   "id": "029bffa1-5902-4142-8d51-30a52819b09b",
   "metadata": {},
   "source": [
    "The weak and strong forms of the problem are equivalent so long as the solution is sufficiently smooth.  We make our first approximation by, instead of seeking $T$ such that $T = g_D$ on $\\partial\\Omega_D$, seeking the discrete trial function $\\tilde{T}$ such that $\\tilde{T} = g_D$ on $\\partial\\Omega_D$ where\n",
    "\\begin{equation}\n",
    "T \\approx \\tilde{T} = \\sum_j \\phi_j T_j\n",
    "\\end{equation}\n",
    "for all test functions $\\tilde{T}_t$ where\n",
    "\\begin{equation}\n",
    "T_t \\approx \\tilde{T}_t = \\sum_i \\phi_i T_{ti}\n",
    "\\end{equation}\n",
    "noting again that $\\tilde{T}_t = 0$ on $\\partial\\Omega_D$.  \n",
    "$\\phi_j$ are the finite element shape functions. Assuming these are continuous across elements of the mesh, $\\tilde{T}$ and $\\tilde{T}_t$ can be substituted into the weak form to yield\n",
    "\\begin{multline}\n",
    "\\sum_i\\sum_j T_{ti}T_j\\sum_k  \\int_{e_k} \\nabla \\phi_i \\cdot \\nabla \\phi_j ~dx \n",
    " + \\sum_i\\sum_j T_{ti}T_j \\sum_k \\int_{\\partial e_k \\cap {\\partial\\Omega_R}} \\phi_i a\\phi_j ~ds\n",
    "\\\\- \\sum_i T_{ti} \\sum_k \\int_{\\partial e_k \\cap {\\partial\\Omega_N}} \\phi_i g_N ~ds \n",
    "- \\sum_i T_{ti} \\sum_k \\int_{\\partial e_k \\cap {\\partial\\Omega_R}} \\phi_i g_R \n",
    "\\\\= \\sum_i T_{ti} \\sum_k \\int_{e_k} \\phi_i h ~dx\n",
    "\\end{multline}\n",
    "where we are integrating over the whole domain by summing the integrals over all the elements  $e_k$ ($\\int_\\Omega dx$=$\\sum_k\\int_{e_k} dx$).  Note that in practice, because the shape functions are zero over most of the domain, only element integrals with non-zero values need be included in the summation.  The element boundaries, $\\partial e_k$, are only of interest (due to the assumed continuity of the shape functions between the elements) if they either intersect with $\\partial\\Omega_N$, $\\partial e_k \\cap {\\partial\\Omega_N}$, or $\\partial\\Omega_R$, $\\partial e_k \\cap {\\partial\\Omega_R}$.  Since the solution of the now discretized weak form should be valid for all $\\tilde{T}_t$ we can drop $T_{ti}$\n",
    "\\begin{multline}\n",
    "\\sum_jT_j\\sum_k  \\int_{e_k} \\nabla \\phi_i \\cdot \\nabla \\phi_j ~dx \n",
    " + \\sum_jT_j\\sum_k \\int_{\\partial e_k \\cap {\\partial\\Omega_R}} \\phi_i a \\phi_j ~ds\n",
    "\\\\- \\sum_k \\int_{\\partial e_k \\cap {\\partial\\Omega_N}} \\phi_i g_N ~ds \n",
    "- \\sum_k \\int_{\\partial e_k \\cap {\\partial\\Omega_R}} \\phi_i g_R~ds \n",
    "= \\sum_k \\int_{e_k} \\phi_i h ~dx\n",
    "\\end{multline}\n",
    "This represents a matrix-vector system of the form\n",
    "\\begin{equation}\n",
    "{\\bf S} {\\bf u} = {\\bf f}\n",
    "\\end{equation}\n",
    "with\n",
    "\\begin{align}\n",
    "{\\bf S} &= S_{ij} = \\sum_k\\int_{e_k} \\nabla \\phi_i \\cdot \\nabla \\phi_j ~dx + \\sum_k \\int_{\\partial e_k \\cap {\\partial\\Omega_R}} \\phi_i a\\phi_j ~ds  \\\\\n",
    "{\\bf f} &= f_i = \\sum_k \\int_{e_k} \\phi_i h ~dx + \\sum_k \\int_{\\partial e_k \\cap {\\partial\\Omega_N}} \\phi_i g_N ~ds \n",
    "+ \\sum_k \\int_{\\partial e_k \\cap {\\partial\\Omega_R}} \\phi_i g_R~ds \\\\\n",
    "{\\bf u} &= {\\bf T} = T_j \n",
    "\\end{align}\n",
    "\n",
    "The compact support of the shape functions $\\phi_{(i,j)}$, which limits their nonzero values to the elements immediately neighboring DOF $i$ or $j$, means that the integrals in can be evaluated efficiently by only considering shape functions associated with an element $e_k$.  It also means that the resulting matrix ${\\bf S}$ is sparse, with most entries being zero."
   ]
  },
  {
   "cell_type": "markdown",
   "id": "154ddfd9-097e-4f9e-be37-135f1ef0fd97",
   "metadata": {},
   "source": [
    "### A specific example"
   ]
  },
  {
   "cell_type": "markdown",
   "id": "268852dd-d05b-4c9d-ae9d-1b72e476eb10",
   "metadata": {},
   "source": [
    "In this case we use a manufactured solution (that is, one that is not necessarily an example of a solution to a PDE representing a naturally occurring physical problem) where we take a known analytical solution $T(x,y)$ and substitute this into the original equation to find $h$, then use this as the right-hand side in our numerical test. We choose $T(x,y)$=$\\exp\\left(x+\\tfrac{y}{2}\\right)$, which is the solution to\n",
    "\\begin{equation}\n",
    "- \\nabla^2 T = -\\tfrac{5}{4} \\exp \\left( x+\\tfrac{y}{2} \\right)\n",
    "\\end{equation}\n",
    "Solving the Poisson equation numerically in a unit square, $\\Omega=[0,1]\\times[0,1]$, for the approximate solution $\\tilde{T} \\approx T$, we impose the boundary conditions\n",
    "\\begin{align}\n",
    "  \\tilde{T} &= \\exp\\left(x+\\tfrac{y}{2}\\right) && \\text{on } \\partial\\Omega \\text{ where } x=0 \\text{ or } y=0 \\\\\n",
    "  \\nabla \\tilde{T}\\cdot \\hat{\\vec{n}} &= \\exp\\left(x + \\tfrac{y}{2}\\right) && \\text{on } \\partial\\Omega \\text{ where } x=1  \\\\\n",
    "  \\nabla \\tilde{T}\\cdot \\hat{\\vec{n}} &= \\tfrac{1}{2}\\exp\\left(x + \\tfrac{y}{2}\\right) && \\text{on } \\partial\\Omega \\text{ where } y=1\n",
    " \\end{align}\n",
    "representing an essential Dirichlet condition on the value of $\\tilde{T}$ and natural Neumann conditions on $\\nabla\\tilde{T}$."
   ]
  },
  {
   "cell_type": "markdown",
   "id": "c0a61793-ec84-41fc-bd8e-1f9ed86dc482",
   "metadata": {},
   "source": [
    "## Implementation"
   ]
  },
  {
   "cell_type": "markdown",
   "id": "7d8da32e-15d4-432a-ae48-a4a98f6c38ac",
   "metadata": {},
   "source": [
    "This example was presented by [Wilson & van Keken, 2023](http://dx.doi.org/10.1186/s40645-023-00588-6) using FEniCS v2019.1.0 and [TerraFERMA](terraferma.github.io), a GUI-based model building framework that also uses FEniCS v2019.1.0.  Here we reproduce these results using the latest version of FEniCS, FEniCSx."
   ]
  },
  {
   "cell_type": "markdown",
   "id": "ae3634be-0776-4547-80c1-7dbc1b427774",
   "metadata": {},
   "source": [
    "### Preamble"
   ]
  },
  {
   "cell_type": "markdown",
   "id": "ce25e79f-2e15-4b34-8303-ac853efdd27d",
   "metadata": {},
   "source": [
    "We start by loading all the modules we will require."
   ]
  },
  {
   "cell_type": "code",
   "execution_count": null,
   "id": "96600b19-6685-49b9-9f6a-aec666b6d0fc",
   "metadata": {},
   "outputs": [],
   "source": [
    "from mpi4py import MPI\n",
    "import dolfinx as df\n",
    "import dolfinx.fem.petsc\n",
    "import numpy as np\n",
    "import ufl\n",
    "import matplotlib.pyplot as pl\n",
    "import pathlib\n",
    "import sys, os\n",
    "sys.path.append(os.path.join(os.path.pardir, 'python'))\n",
    "import utils\n",
    "import pyvista as pv\n",
    "if __name__ == \"__main__\" and \"__file__\" in globals():\n",
    "    pv.OFF_SCREEN = True"
   ]
  },
  {
   "cell_type": "markdown",
   "id": "f8efc8ed-1686-4851-9b04-e6805576ef0c",
   "metadata": {},
   "source": [
    "### Solution"
   ]
  },
  {
   "cell_type": "markdown",
   "id": "e5339d0c-7c86-4d3e-aee4-caf1b81f53c5",
   "metadata": {},
   "source": [
    "We then declare a python function `solve_poisson_2d` that contains a complete description of the discrete Poisson equation problem.\n",
    "\n",
    "This function follows much the same flow as described above:\n",
    "1. we describe the unit square domain $\\Omega = [0,1]\\times[0,1]$ and discretize it into $2\\times$`ne`$\\times$`ne` triangular elements or cells to make a `mesh`\n",
    "2. we declare the **function space**, `V`, to use Lagrange polynomials of degree `p`\n",
    "3. using this function space we declare trial, `T_a`, and test, `T_t`, functions\n",
    "4. we define the Dirichlet boundary condition, `bc` at $x=0$ and $y=0$, setting the desired value there to the known exact solution\n",
    "5. we define a finite element `Function`, `gN`, containing the values of $\\nabla \\tilde{T}$ on the Neumann boundaries $x=1$ and $y=1$ (note that this will be used in the weak form rather than as a boundary condition object)\n",
    "6. we define the right hand side forcing function $h$, `h`\n",
    "7. we describe the **discrete weak forms**, `S` and `f`, that will be used to assemble the matrix $\\mathbf{S}$ and vector $\\mathbf{f}$\n",
    "8. we solve the matrix problem using a linear algebra back-end and return the solution\n",
    "\n",
    "For a more detailed description of solving the Poisson equation using FEniCSx, see [the FEniCSx tutorial](https://jsdokken.com/dolfinx-tutorial/chapter1/fundamentals.html)."
   ]
  },
  {
   "cell_type": "code",
   "execution_count": null,
   "id": "c74d79ab-1ec0-4c39-b72f-7e3f780c775a",
   "metadata": {},
   "outputs": [],
   "source": [
    "def solve_poisson_2d(ne, p=1):\n",
    "    \"\"\"\n",
    "    A python function to solve a two-dimensional Poisson problem\n",
    "    on a unit square domain.\n",
    "    Parameters:\n",
    "    * ne - number of elements in each dimension\n",
    "    * p  - polynomial order of the solution function space\n",
    "    \"\"\"\n",
    "    # Describe the domain (a unit square)\n",
    "    # and also the tessellation of that domain into ne \n",
    "    # equally spaced squares in each dimension which are\n",
    "    # subdivided into two triangular elements each\n",
    "    mesh = df.mesh.create_unit_square(MPI.COMM_WORLD, ne, ne)\n",
    "\n",
    "    # Define the solution function space using Lagrange polynomials\n",
    "    # of order p\n",
    "    V = df.fem.functionspace(mesh, (\"Lagrange\", p))\n",
    "\n",
    "    # Define the trial and test functions on the same function space (V)\n",
    "    T_a = ufl.TrialFunction(V)\n",
    "    T_t = ufl.TestFunction(V)\n",
    "\n",
    "    # Define the location of the boundary condition, x=0 and y=0\n",
    "    def boundary(x):\n",
    "        return np.logical_or(np.isclose(x[0], 0), np.isclose(x[1], 0))\n",
    "    boundary_dofs = df.fem.locate_dofs_geometrical(V, boundary)\n",
    "    # Specify the value and define a Dirichlet boundary condition (bc)\n",
    "    gD = df.fem.Function(V)\n",
    "    gD.interpolate(lambda x: np.exp(x[0] + x[1]/2.))\n",
    "    bc = df.fem.dirichletbc(gD, boundary_dofs)\n",
    "\n",
    "    # Get the coordinates\n",
    "    x = ufl.SpatialCoordinate(mesh)\n",
    "    # Define the Neumann boundary condition function\n",
    "    gN = ufl.as_vector((ufl.exp(x[0] + x[1]/2.), 0.5*ufl.exp(x[0] + x[1]/2.)))\n",
    "    # Define the right hand side function, h\n",
    "    h = -5./4.*ufl.exp(x[0] + x[1]/2.)\n",
    "\n",
    "    # Get the unit vector normal to the facets\n",
    "    n = ufl.FacetNormal(mesh)\n",
    "    # Define the integral to be assembled into the stiffness matrix\n",
    "    S = ufl.inner(ufl.grad(T_t), ufl.grad(T_a))*ufl.dx\n",
    "    # Define the integral to be assembled into the forcing vector,\n",
    "    # incorporating the Neumann boundary condition weakly\n",
    "    f = T_t*h*ufl.dx + T_t*ufl.inner(gN, n)*ufl.ds\n",
    "\n",
    "    # Compute the solution (given the boundary condition, bc)\n",
    "    problem = df.fem.petsc.LinearProblem(S, f, bcs=[bc], \\\n",
    "                                         petsc_options={\"ksp_type\": \"preonly\", \\\n",
    "                                                        \"pc_type\": \"lu\"})\n",
    "    T_i = problem.solve()\n",
    "\n",
    "    return T_i"
   ]
  },
  {
   "cell_type": "markdown",
   "id": "54e63b5e-2348-4a36-91b6-65bb55640d14",
   "metadata": {},
   "source": [
    "We can now numerically solve the equations using, e.g. 4 elements and piecewise linear polynomials."
   ]
  },
  {
   "cell_type": "code",
   "execution_count": null,
   "id": "4d76bf54-eff2-4c3b-a128-6823ac6ba0a4",
   "metadata": {},
   "outputs": [],
   "source": [
    "if __name__ == \"__main__\":\n",
    "    T_P1 = solve_poisson_2d(4)\n",
    "    T_P1.name = \"T (P1)\""
   ]
  },
  {
   "cell_type": "markdown",
   "id": "2101e1d9-0c48-4fe0-862b-92f571b8620e",
   "metadata": {},
   "source": [
    "And use a utility function to plot it."
   ]
  },
  {
   "cell_type": "code",
   "execution_count": null,
   "id": "f081a820-4cba-442b-bbb0-467344b7619f",
   "metadata": {},
   "outputs": [],
   "source": [
    "if __name__ == \"__main__\":\n",
    "    plotter_P1 = utils.plot_scalar(T_P1, gather=True)\n",
    "    utils.plot_mesh(T_P1.function_space.mesh, plotter=plotter_P1, gather=True, show_edges=True, style=\"wireframe\", color='k', line_width=2)\n",
    "    utils.plot_scalar_values(T_P1, plotter=plotter_P1, gather=True, point_size=15, font_size=22, shape_color='w', text_color='k', bold=False)\n",
    "    utils.plot_show(plotter_P1)\n",
    "    utils.plot_save(plotter_P1, \"2d_poisson_P1_solution.png\")\n",
    "    comm = T_P1.function_space.mesh.comm\n",
    "    if comm.size > 1:\n",
    "        # if we're running in parallel then save an image per process as well\n",
    "        plotter_P1_p = utils.plot_scalar(T_P1)\n",
    "        utils.plot_mesh(T_P1.function_space.mesh, plotter=plotter_P1_p, show_edges=True, style=\"wireframe\", color='k', line_width=2)\n",
    "        utils.plot_scalar_values(T_P1, plotter=plotter_P1_p, point_size=15, font_size=22, shape_color='w', text_color='k', bold=False)\n",
    "        utils.plot_save(plotter_P1_p, \"2d_poisson_P1_solution_p{:d}.png\".format(comm.rank,))"
   ]
  },
  {
   "cell_type": "markdown",
   "id": "b1f67f37-28b7-4865-aade-20ee962de959",
   "metadata": {},
   "source": [
    "Similarly, we can solve the equation using quadratic elements (`p=2`)."
   ]
  },
  {
   "cell_type": "code",
   "execution_count": null,
   "id": "89ad4f11-9cff-4598-8f85-fa41acbd9ccc",
   "metadata": {},
   "outputs": [],
   "source": [
    "if __name__ == \"__main__\":\n",
    "    T_P2 = solve_poisson_2d(4, p=2)\n",
    "    T_P2.name = \"T (P2)\""
   ]
  },
  {
   "cell_type": "code",
   "execution_count": null,
   "id": "9c98af9e-1342-448d-ba5b-2ba70a5ac816",
   "metadata": {},
   "outputs": [],
   "source": [
    "if __name__ == \"__main__\":\n",
    "    plotter_P2 = utils.plot_scalar(T_P2, gather=True)\n",
    "    utils.plot_mesh(T_P2.function_space.mesh, plotter=plotter_P2, gather=True, show_edges=True, style=\"wireframe\", color='k', line_width=2)\n",
    "    utils.plot_scalar_values(T_P2, plotter=plotter_P2, gather=True, point_size=15, font_size=12, shape_color='w', text_color='k', bold=False)\n",
    "    utils.plot_show(plotter_P2)\n",
    "    utils.plot_save(plotter_P2, \"2d_poisson_P2_solution.png\")\n",
    "    comm = T_P2.function_space.mesh.comm\n",
    "    if comm.size > 1:\n",
    "        # if we're running in parallel then save an image per process as well\n",
    "        plotter_P2_p = utils.plot_scalar(T_P2)\n",
    "        utils.plot_mesh(T_P2.function_space.mesh, plotter=plotter_P2_p, show_edges=True, style=\"wireframe\", color='k', line_width=2)\n",
    "        utils.plot_scalar_values(T_P2, plotter=plotter_P2_p, point_size=15, font_size=12, shape_color='w', text_color='k', bold=False)\n",
    "        utils.plot_save(plotter_P2_p, \"2d_poisson_P2_solution_p{:d}.png\".format(comm.rank,))"
   ]
  },
  {
   "cell_type": "markdown",
   "id": "ccf98e06-9c01-4098-81c1-ec6cd980343e",
   "metadata": {},
   "source": [
    "## Themes and variations"
   ]
  },
  {
   "cell_type": "markdown",
   "id": "b579c554-3e04-4368-a34a-b0a77a6308ab",
   "metadata": {},
   "source": [
    "Given that we know the exact solution to this problem is $T(x,y)$=$\\exp\\left(x+\\tfrac{y}{2}\\right)$ write a python function to evaluate the error in our numerical solution.\n",
    "\n",
    "Then loop over a variety of `ne`s and `p`s and check that the numerical solution converges with an increasing number of degrees of freedom.\n",
    "\n",
    "Note that, aside from the analytic solution being different, this is very similar to the 1D case in `Poisson1D.ipynb`."
   ]
  },
  {
   "cell_type": "markdown",
   "id": "33dffc3f-23ab-4069-8c10-eda67c102a69",
   "metadata": {},
   "source": [
    "## Finish up"
   ]
  },
  {
   "cell_type": "markdown",
   "id": "a52bf97d-bc5f-4e49-a968-204eae87d2f8",
   "metadata": {},
   "source": [
    "Convert this notebook to a python script (making sure to save first)"
   ]
  },
  {
   "cell_type": "code",
   "execution_count": null,
   "id": "c0a19606-e33a-407a-a549-47fb5c3355f4",
   "metadata": {},
   "outputs": [],
   "source": [
    "if __name__ == \"__main__\" and \"__file__\" not in globals():\n",
    "    from ipylab import JupyterFrontEnd\n",
    "    app = JupyterFrontEnd()\n",
    "    app.commands.execute('docmanager:save')\n",
    "    !jupyter nbconvert --NbConvertApp.export_format=script --ClearOutputPreprocessor.enabled=True Poisson2D.ipynb"
   ]
  },
  {
   "cell_type": "code",
   "execution_count": null,
   "id": "a06d21c2-aadb-4b3c-a1b1-a560de98c992",
   "metadata": {},
   "outputs": [],
   "source": []
  }
 ],
 "metadata": {
  "kernelspec": {
   "display_name": "Python 3 (ipykernel)",
   "language": "python",
   "name": "python3"
  },
  "language_info": {
   "codemirror_mode": {
    "name": "ipython",
    "version": 3
   },
   "file_extension": ".py",
   "mimetype": "text/x-python",
   "name": "python",
   "nbconvert_exporter": "python",
   "pygments_lexer": "ipython3",
   "version": "3.10.12"
  }
 },
 "nbformat": 4,
 "nbformat_minor": 5
}
