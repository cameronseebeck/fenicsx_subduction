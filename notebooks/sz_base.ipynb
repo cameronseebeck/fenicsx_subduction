{
 "cells": [
  {
   "cell_type": "markdown",
   "id": "2c497204-d668-44eb-9f1f-3a62b2e198d1",
   "metadata": {},
   "source": [
    "# Subduction Zone Setup"
   ]
  },
  {
   "cell_type": "markdown",
   "id": "3a2dc07a-9f18-4869-a918-6e7a55e50950",
   "metadata": {},
   "source": [
    "Author: Cian Wilson"
   ]
  },
  {
   "cell_type": "markdown",
   "id": "ee52e2d3-0a15-469e-8fa0-1c9856bcf9a1",
   "metadata": {},
   "source": [
    "## Implementation"
   ]
  },
  {
   "cell_type": "markdown",
   "id": "7d879c8f-44a0-4534-8575-b9ec2fa87805",
   "metadata": {},
   "source": [
    "Our implementation will follow a similar workflow to that seen repeatedly in the background examples section.\n",
    "\n",
    "1. we will describe the subduction zone geometry and tesselate it intro non-overlapping triangles to create a **mesh**\n",
    "2. we will declare **function spaces** for the temperature, wedge velocity and pressure, and slab velocity and pressure\n",
    "3. using these function space we will declare **trial** and **test functions**\n",
    "4. we will define Dirichlet boundary conditions at the boundaries as described in the introduction\n",
    "5. we will use the crustal heat sources in the right hand side forcing function for the temperature\n",
    "6. we will describe **discrete weak forms** for temperature and each of the coupled velocity-pressure systems that will be used to assemble the matrices (and vectors) to be solved\n",
    "7. we will solve the matrix problems using a linear algebra back-end repeatedly in a Picard iteration to find the root of the residuals and return the non-linear solution\n",
    "\n",
    "The only difference in a subduction zone problem is that each of these steps is more complicated than in the earlier examples.  Here we split steps 1-7 up across three notebooks.  In the first we implement a function to describe the slab surface using a spline.  The remaining details of the geometry are constructed in a function defined in the next notebook.  Finally we implement a python class to describe the remaining steps, 2-7, of the problem."
   ]
  },
  {
   "cell_type": "markdown",
   "id": "3176cd7c-702f-4997-93ce-ef5a9f44608b",
   "metadata": {},
   "source": [
    "### Geometry\n",
    "\n",
    "Throughout our implementation, in the following notebooks, we will demonstrate its functionality using the simplified geometry previously laid out and repeated below in Figure 1. However our implementation will be applicable to a broader range of geometries and setups.\n",
    "\n",
    "![Figure 8a of Wilson & van Keken, 2023](images/benchmarkgeometry.png)\n",
    "*Figure 1: Geometry and coefficients for a simplified 2D subduction zone model. All coefficients and parameters are nondimensional. The decoupling point is indicated by the star.*"
   ]
  },
  {
   "cell_type": "markdown",
   "id": "bc8b1ec1-36d4-44a5-824c-99dee05c10fa",
   "metadata": {},
   "source": [
    "### Parameters\n",
    "\n",
    "We also recall the default parameters repeated below in Table 1.\n",
    "\n",
    "\\begin{array}{llll}\n",
    "\\hline\n",
    "\\text{Quantity} & \\text{Symbol} & \\text{Nominal value} & \\text{Nondimensional value} \\\\\n",
    "\\hline\n",
    "\\text{Reference temperature scale} &  T_0 & 1~\\text{K}=1^\\circ \\text{C} & - \\\\\n",
    "\\text{Surface temperature} & T^*_s & 273~\\text{K}=0^\\circ \\text{C} &  T_s=0\\\\\n",
    "\\text{Mantle temperature} & T^*_m & 1623~\\text{K}=1350^\\circ \\text{C}  & T_m=1350\\\\\n",
    "\\text{Surface heat flow}^\\text{c} & q^*_s & ^{\\S} \\text{W/m}^2  & q_s^{\\S}\\\\\n",
    "\\text{Reference density} & \\rho_0 & 3300~\\text{kg/m}^3 & - \\\\\n",
    "\\text{Crustal density}^\\text{c} & \\rho^*_c & 2750~\\text{kg/m}^3 & \\rho_c=0.833333\\\\\n",
    "\\text{Mantle density} & \\rho^*_m & 3300~\\text{kg/m}^3 & \\rho_m=1 \\\\\n",
    "\\text{Reference thermal conductivity} & k_0 & 3.1 ~\\text{W/(m~K)} & - \\\\\n",
    "\\text{Crustal thermal conductivity}^\\text{c} & k^*_c & 2.5 ~\\text{W/(m~K)} & k_c=0.8064516\\\\\n",
    "\\text{Mantle thermal conductivity} & k^*_m & 3.1 ~\\text{W/(m~K)} & k_m=1 \\\\\n",
    "\\text{Volumetric heat production (upper crust)}^\\text{c} & H^*_1 & 1.3 \\mu \\text{W/m}^3 & H_1=0.419354\\\\\n",
    "\\text{Volumetric heat production (lower crust)}^\\text{c} & H_2^* & 0.27 \\mu \\text{W/m}^3 & H_2=0.087097\\\\\n",
    "\\text{Age of overriding crust}^\\text{o} & A_c^* & ^{\\S}~\\text{Myr} & A_c^{\\S} \\\\\n",
    "\\text{Age of subduction}^\\text{t} & A_s^* & ^{\\S}~\\text{Myr }& A_s^{\\S} \\\\\n",
    "\\text{Age of subducting slab} & A^* & ^{\\S}~\\text{Myr} & A^{\\S} \\\\\n",
    "\\text{Reference length scale} & h_0 & 1~\\text{km} & - \\\\\n",
    "\\text{Depth of base of upper crust}^\\text{c} & z_1^* & 15~\\text{km} & z_1=15 \\\\\n",
    "\\text{Depth of base of lower crust (Moho)} & z_2^* & ^{\\S}~\\text{km} & z_2^{\\S} \\\\\n",
    "\\text{Trench depth} & z_\\text{trench}^* & ^{\\S}~\\text{km} & z_\\text{trench}^{\\S} \\\\\n",
    "\\text{Position of the coast line} & x_\\text{coast}^* & ^{\\S}~\\text{km} & x_\\text{coast}^{\\S} \\\\\n",
    "\\text{Wedge inflow/outflow transition depth} & z_\\text{io}^* & ^{\\S}~\\text{km} & z_\\text{io}^{\\S} \\\\\n",
    "\\text{Depth of domain} & D^* & ^{\\S}~\\text{km} & D^{\\S} \\\\\n",
    "\\text{Width of domain} & L^* & ^{\\S}~\\text{km} & L^{\\S} \\\\\n",
    "\\text{Depth of change from decoupling to coupling} & d_c^* & 80~\\text{km} & d_c=80 \\\\\n",
    "\\text{Reference heat capacity} & {c_p}_0 & 1250~\\text{J/(kg~K)} & - \\\\\n",
    "\\text{Reference thermal diffusivity} & \\kappa_0 & 0.7515\\times10^{\\text{-6}}~\\text{m}^2\\text{/s} & - \\\\\n",
    "\\text{Activation energy} & E & 540~\\text{kJ/mol} & -\\\\\n",
    "\\text{Powerlaw exponent} & n & 3.5 & -\\\\\n",
    "\\text{Pre-exponential constant} & A^*_\\eta & 28968.6~\\text{Pa~s}^{1/n} & - \\\\\n",
    "\\text{Reference viscosity scale} & \\eta_0 & 10^{\\textrm{21}}~\\text{Pa~s} & -\\\\\n",
    "\\text{Viscosity cap} & \\eta^*_\\text{max} & 10^{\\textrm{25}}~\\text{Pa~s} & - \\\\\n",
    "\\text{Gas constant} & R^* & 8.3145~\\text{J/(mol~K)} & - \\\\\n",
    "\\text{Derived velocity scale} & {v}_0& 23.716014~\\text{mm/yr} & - \\\\\n",
    "\\text{Convergence velocity} & V_s^* & ^{\\S}~\\text{mm/yr} & V_s^{\\S} \\\\\n",
    "\\end{array}\n",
    "\\begin{array}{rl}\n",
    "^\\text{c} & \\text{ocean-continent subduction only} \\\\\n",
    "^\\text{o} & \\text{ocean-ocean subduction only} \\\\\n",
    "^\\text{t} & \\text{time-dependent simulations only} \\\\\n",
    "^\\S       & \\text{varies between models} \\\\\n",
    "\\end{array}\n",
    "*Table 1: Nomenclature and reference values*\n",
    "\n",
    "Most of these are available for us to use through a file in `../data/default_params.json`"
   ]
  },
  {
   "cell_type": "code",
   "execution_count": null,
   "id": "8d982dbe-9f7e-4415-9027-d37c52dedb32",
   "metadata": {},
   "outputs": [],
   "source": [
    "import os\n",
    "params_filename = os.path.join(os.pardir, \"data\", \"default_params.json\")"
   ]
  },
  {
   "cell_type": "markdown",
   "id": "1ef28ef0-e2e2-4f84-b0da-0cea04345457",
   "metadata": {},
   "source": [
    "Loading this file"
   ]
  },
  {
   "cell_type": "code",
   "execution_count": null,
   "id": "1223f8c6-1491-4e79-a2d3-bf6ec6b09d5f",
   "metadata": {},
   "outputs": [],
   "source": [
    "import json\n",
    "with open(params_filename, \"r\") as fp:\n",
    "    default_params = json.load(fp)"
   ]
  },
  {
   "cell_type": "markdown",
   "id": "959c78e9-aa2a-4e12-9601-0f1287a73ca3",
   "metadata": {},
   "source": [
    "This contains default parameters required to define the geometry. Keys ending in `_sid` and `_rid` are surface and region IDs respectively that we use to identify boundaries and regions of the mesh (these are unlikely to need to be changed). *_res_fact are resolution factors scaled by a factor to set the resolution at various points in the mesh. Finally, those ending in _depth are depths (in km) of various important points along the slab surface or boundaries (as defined in Table 1)."
   ]
  },
  {
   "cell_type": "code",
   "execution_count": null,
   "id": "9898c858-d28a-4e94-9eb8-6b3e57a13f4d",
   "metadata": {},
   "outputs": [],
   "source": [
    "from mpi4py import MPI\n",
    "if __name__ == \"__main__\":\n",
    "    if MPI.COMM_WORLD.rank == 0:\n",
    "        print(\"{:<35} {:<10}\".format('Key','Value'))\n",
    "        print(\"-\"*45)\n",
    "        for k, v in default_params.items():\n",
    "            print(\"{:<35} {:<10}\".format(k, v))"
   ]
  },
  {
   "cell_type": "markdown",
   "id": "e09c68af-2588-42c4-8aeb-3ee71eba8b61",
   "metadata": {},
   "source": [
    "We will additionally use parameters from the benchmark proposed in [Wilson & van Keken, PEPS, 2023](http://dx.doi.org/10.1186/s40645-023-00588-6) as defined in Table 2 below.\n",
    "\n",
    "\\begin{array}{llllllllllll}\n",
    "\\text{case} & \\text{type} & \\eta & q_s^* & A^* & z_2 & z_\\text{io} & z_\\text{trench} & x_\\text{coast} & D & L & V_s^* \\\\\n",
    " & & & \\text{(W/m}^2\\text{)} & \\text{(Myr)} &       &         & & & &    & (mm/yr)      \\\\   \n",
    "\\hline\n",
    "1 & \\text{c} & 1               & 0.065 & 100 & 40 & 139 & 0 & 0 & 200 & 400 & 100  \\\\\n",
    "2 & \\text{c} & \\eta^*/\\eta_0 & 0.065 &  100 & 40 & 154  & 0 & 0& 200 & 400 & 100 \\\\\n",
    "\\end{array}\n",
    "\\begin{array}{rl}\n",
    "\\text{c} & \\text{ocean-continent subduction} \\\\\n",
    "\\end{array}\n",
    "*Table 2: Benchmark parameter values*"
   ]
  },
  {
   "cell_type": "markdown",
   "id": "a2cd3157-fb61-4511-ac48-599e916afb20",
   "metadata": {},
   "source": [
    "Since these benchmark parameters are so few we will simply enter them as needed.  For the global suite all parameters marked as varying between models in Table 1 will change between cases.  An additional database of these parameters is provided in `../data/all_sz.json`, which we also load here"
   ]
  },
  {
   "cell_type": "code",
   "execution_count": null,
   "id": "7c5eec99-4d0a-4b15-b54a-0a73154b005e",
   "metadata": {},
   "outputs": [],
   "source": [
    "allsz_filename = os.path.join(os.pardir, \"data\", \"all_sz.json\")\n",
    "with open(allsz_filename, \"r\") as fp:\n",
    "    allsz_params = json.load(fp)"
   ]
  },
  {
   "cell_type": "markdown",
   "id": "cd70367f-3824-4331-8cbf-dec08b39f0c6",
   "metadata": {},
   "source": [
    "The `allsz_params` dictionary contains parameters for all 56 subduction zones organized by name."
   ]
  },
  {
   "cell_type": "code",
   "execution_count": null,
   "id": "35bc6cd9-d657-487d-846d-18dbd4ce252a",
   "metadata": {},
   "outputs": [],
   "source": [
    "if __name__ == \"__main__\":\n",
    "    if MPI.COMM_WORLD.rank == 0:\n",
    "        print(\"{}\".format('Name'))\n",
    "        print(\"-\"*30)\n",
    "        for k in allsz_params.keys():\n",
    "            print(\"{}\".format(k,))"
   ]
  },
  {
   "cell_type": "markdown",
   "id": "745fb389-d114-4621-ae7c-2a6f1d2adb0e",
   "metadata": {},
   "source": [
    "Taking two examples (one continental-oceanic, \"01_Alaska_Peninsula\", and one oceanic-oceanic, \"19_N_Antilles\") we can examine the contents of `allsz_params`."
   ]
  },
  {
   "cell_type": "code",
   "execution_count": null,
   "id": "1b2a38a7-7e8d-46a4-997d-81b399741581",
   "metadata": {},
   "outputs": [],
   "source": [
    "if __name__ == \"__main__\":\n",
    "    names = ['01_Alaska_Peninsula', '19_N_Antilles']\n",
    "    if MPI.COMM_WORLD.rank == 0:\n",
    "        for name in names:\n",
    "            print(\"{}:\".format(name))\n",
    "            print(\"{:<35} {:<10}\".format('Key','Value'))\n",
    "            print(\"-\"*100)\n",
    "            for k, v in allsz_params[name].items():\n",
    "                if v is not None: print(\"{:<35} {}\".format(k, v))\n",
    "            print(\"=\"*100)"
   ]
  },
  {
   "cell_type": "markdown",
   "id": "923ce019-9d8d-4b4c-b29b-39544aa0ab07",
   "metadata": {},
   "source": [
    "## Finish up"
   ]
  },
  {
   "cell_type": "markdown",
   "id": "2625c28c-d72a-444f-a5dd-41c83b940c13",
   "metadata": {},
   "source": [
    "Convert this notebook to a python script (making sure to save first) so that we can access it in subsequent notebooks."
   ]
  },
  {
   "cell_type": "code",
   "execution_count": null,
   "id": "f771f7f7-ab4c-4e0d-b4b0-2d3ddd589093",
   "metadata": {},
   "outputs": [],
   "source": [
    "if __name__ == \"__main__\" and \"__file__\" not in globals():\n",
    "    from ipylab import JupyterFrontEnd\n",
    "    app = JupyterFrontEnd()\n",
    "    app.commands.execute('docmanager:save')\n",
    "    !jupyter nbconvert --NbConvertApp.export_format=script --ClearOutputPreprocessor.enabled=True sz_base.ipynb"
   ]
  },
  {
   "cell_type": "code",
   "execution_count": null,
   "id": "f4ee1818-43f7-4b15-9434-11281ffe40f4",
   "metadata": {},
   "outputs": [],
   "source": []
  }
 ],
 "metadata": {
  "kernelspec": {
   "display_name": "Python 3 (ipykernel)",
   "language": "python",
   "name": "python3"
  },
  "language_info": {
   "codemirror_mode": {
    "name": "ipython",
    "version": 3
   },
   "file_extension": ".py",
   "mimetype": "text/x-python",
   "name": "python",
   "nbconvert_exporter": "python",
   "pygments_lexer": "ipython3",
   "version": "3.10.12"
  }
 },
 "nbformat": 4,
 "nbformat_minor": 5
}
